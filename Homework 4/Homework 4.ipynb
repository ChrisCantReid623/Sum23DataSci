{
 "cells": [
  {
   "cell_type": "markdown",
   "id": "ab27a5bb",
   "metadata": {},
   "source": [
    "# Christopher Reid - Homework 4"
   ]
  },
  {
   "cell_type": "code",
   "execution_count": 1,
   "id": "c1e7104f",
   "metadata": {},
   "outputs": [],
   "source": [
    "# Module Imports\n",
    "import csv\n",
    "import pandas as pd"
   ]
  },
  {
   "cell_type": "markdown",
   "id": "365b5674",
   "metadata": {},
   "source": [
    "# Part 1: Setup"
   ]
  },
  {
   "cell_type": "markdown",
   "id": "021f1644",
   "metadata": {},
   "source": [
    "## 1.1: Dataset Selection\n",
    "\n",
    "source dataset: https://www.kaggle.com/datasets/atharvbharaskar/reading-habits-of-students"
   ]
  },
  {
   "cell_type": "markdown",
   "id": "cf20f1c9",
   "metadata": {},
   "source": [
    "# Part 2: Data Collection"
   ]
  },
  {
   "attachments": {},
   "cell_type": "markdown",
   "id": "f0714cc9",
   "metadata": {},
   "source": [
    "## 2.1: Dataset Description\n",
    "\n",
    "My chosen dataset belonging to Kaggle user, Atharv Bharaskar surveyed college students located in India about their usage of the campus libraries, reading habits, learning preferences and other factors focused on reading. The survey was shared with students at the campus’s library and their responses were recorded using Google Forms. Between 10 to 15 thousand students ranging from 11th grade to master’s degree programs across a wide variety of courses participated. The dataset aims to capture insights on students’ reading and study habits as well as library usage and preferential methods to learning. \n",
    "\n",
    "The columns are student gender, departmental affiliation, census location category, preferred type of books for studying, frequency of library visits, purposes for library visits, average time spent in college, general purpose of library visits, preferred location for studying, preferred time of library visits, preference of language for learning, preferred type of reading material, whether they enjoy reading or not, and preferred mode of learning. Additional columns include students’ reported impacts of Covid on learning, how often they study, reported study habits prior to college, study habits post-college, awareness levels about the National Digital Library, usage of the NDL, reported pandemic effects on reading habits, book purchasing behavior from physical stores, average expenditure on books, father's occupation, and education level of their parents. \n",
    "\n",
    "With no creation date listed on the page, the dataset was last updated in May of 2023 and no further expected update frequency."
   ]
  },
  {
   "cell_type": "markdown",
   "id": "84c1a4b4",
   "metadata": {},
   "source": [
    "## 2.2: Dataset Download"
   ]
  },
  {
   "cell_type": "code",
   "execution_count": 2,
   "id": "5f685950",
   "metadata": {},
   "outputs": [
    {
     "data": {
      "text/html": [
       "<div>\n",
       "<style scoped>\n",
       "    .dataframe tbody tr th:only-of-type {\n",
       "        vertical-align: middle;\n",
       "    }\n",
       "\n",
       "    .dataframe tbody tr th {\n",
       "        vertical-align: top;\n",
       "    }\n",
       "\n",
       "    .dataframe thead th {\n",
       "        text-align: right;\n",
       "    }\n",
       "</style>\n",
       "<table border=\"1\" class=\"dataframe\">\n",
       "  <thead>\n",
       "    <tr style=\"text-align: right;\">\n",
       "      <th></th>\n",
       "      <th>Unnamed: 0</th>\n",
       "      <th>gender</th>\n",
       "      <th>faculty</th>\n",
       "      <th>Enter Your Location</th>\n",
       "      <th>kind of books preffered for study</th>\n",
       "      <th>How Frequently do you visit library</th>\n",
       "      <th>For what Purposes do yo visit library</th>\n",
       "      <th>Average Time spent in collage</th>\n",
       "      <th>What is general Purposes</th>\n",
       "      <th>Which one is your Prefered location</th>\n",
       "      <th>...</th>\n",
       "      <th>Dose Covid 19 Pandemic Affected Your Reading Habits</th>\n",
       "      <th>Do you purchase Books from store</th>\n",
       "      <th>Average Expenditure on books</th>\n",
       "      <th>Occupation Of Father</th>\n",
       "      <th>Parents Education</th>\n",
       "      <th>Select your Faculty</th>\n",
       "      <th>Enter your Location</th>\n",
       "      <th>Preferred Language for Learning</th>\n",
       "      <th>Do you Using National dig</th>\n",
       "      <th>Occupation of Father</th>\n",
       "    </tr>\n",
       "  </thead>\n",
       "  <tbody>\n",
       "    <tr>\n",
       "      <th>167</th>\n",
       "      <td>167</td>\n",
       "      <td>Female</td>\n",
       "      <td>Science</td>\n",
       "      <td>Rural</td>\n",
       "      <td>Reference Books</td>\n",
       "      <td>Once in a week</td>\n",
       "      <td>For Reading Novels and</td>\n",
       "      <td>g Less than an hour</td>\n",
       "      <td>To get the knowledge and</td>\n",
       "      <td>Central Library</td>\n",
       "      <td>...</td>\n",
       "      <td>Yes - Negatively Affected</td>\n",
       "      <td>No</td>\n",
       "      <td>Less Than Rs. 500</td>\n",
       "      <td>Farmer</td>\n",
       "      <td>Educated</td>\n",
       "      <td>Science</td>\n",
       "      <td>Rural</td>\n",
       "      <td>Marathi</td>\n",
       "      <td>No</td>\n",
       "      <td>Farmer</td>\n",
       "    </tr>\n",
       "    <tr>\n",
       "      <th>42</th>\n",
       "      <td>42</td>\n",
       "      <td>Male</td>\n",
       "      <td>Science</td>\n",
       "      <td>Rural</td>\n",
       "      <td>Text Books</td>\n",
       "      <td>2-3 times in a week</td>\n",
       "      <td>To borrow library material</td>\n",
       "      <td>s 2-4 hours</td>\n",
       "      <td>To pass the examination</td>\n",
       "      <td>College lab</td>\n",
       "      <td>...</td>\n",
       "      <td>Yes - Positively Affected</td>\n",
       "      <td>Yes</td>\n",
       "      <td>Less Than Rs. 500</td>\n",
       "      <td>Farmer</td>\n",
       "      <td>Educated</td>\n",
       "      <td>Science</td>\n",
       "      <td>Rural</td>\n",
       "      <td>English</td>\n",
       "      <td>No</td>\n",
       "      <td>Farmer</td>\n",
       "    </tr>\n",
       "  </tbody>\n",
       "</table>\n",
       "<p>2 rows × 30 columns</p>\n",
       "</div>"
      ],
      "text/plain": [
       "     Unnamed: 0  gender  faculty Enter Your Location  \\\n",
       "167         167  Female  Science               Rural   \n",
       "42           42    Male  Science               Rural   \n",
       "\n",
       "    kind of books preffered for study How Frequently do you visit library  \\\n",
       "167                   Reference Books                      Once in a week   \n",
       "42                         Text Books                 2-3 times in a week   \n",
       "\n",
       "    For what Purposes do yo visit library Average Time spent in collage  \\\n",
       "167                For Reading Novels and           g Less than an hour   \n",
       "42             To borrow library material                   s 2-4 hours   \n",
       "\n",
       "     What is general Purposes Which one is your Prefered location   ...  \\\n",
       "167  To get the knowledge and                      Central Library  ...   \n",
       "42    To pass the examination                          College lab  ...   \n",
       "\n",
       "    Dose Covid 19 Pandemic Affected Your Reading Habits  \\\n",
       "167                          Yes - Negatively Affected    \n",
       "42                           Yes - Positively Affected    \n",
       "\n",
       "    Do you purchase Books from store Average Expenditure on books  \\\n",
       "167                               No            Less Than Rs. 500   \n",
       "42                               Yes            Less Than Rs. 500   \n",
       "\n",
       "    Occupation Of Father Parents Education Select your Faculty  \\\n",
       "167               Farmer          Educated             Science   \n",
       "42                Farmer          Educated             Science   \n",
       "\n",
       "    Enter your Location Preferred Language for Learning  \\\n",
       "167               Rural                         Marathi   \n",
       "42                Rural                         English   \n",
       "\n",
       "    Do you Using National dig Occupation of Father  \n",
       "167                        No               Farmer  \n",
       "42                         No               Farmer  \n",
       "\n",
       "[2 rows x 30 columns]"
      ]
     },
     "execution_count": 2,
     "metadata": {},
     "output_type": "execute_result"
    }
   ],
   "source": [
    "filename = 'Reading Habbit Of Students.csv'\n",
    "reading_df = pd.read_csv(filename)\n",
    "reading_df.sample(2)"
   ]
  },
  {
   "cell_type": "markdown",
   "id": "b17d4936",
   "metadata": {},
   "source": [
    "# Part 3: Data Preprocessing"
   ]
  },
  {
   "cell_type": "markdown",
   "id": "4079dd21",
   "metadata": {},
   "source": [
    "## 3.1: Data Cleaning"
   ]
  },
  {
   "cell_type": "markdown",
   "id": "e7ccfb35",
   "metadata": {},
   "source": [
    "### Checking for NaN values"
   ]
  },
  {
   "cell_type": "code",
   "execution_count": 3,
   "id": "44039abb",
   "metadata": {},
   "outputs": [
    {
     "data": {
      "text/plain": [
       "Unnamed: 0                                             0\n",
       "gender                                                 0\n",
       "faculty                                                0\n",
       "Enter Your Location                                    0\n",
       "kind of books preffered for study                      0\n",
       "How Frequently do you visit library                    0\n",
       "For what Purposes do yo visit library                  0\n",
       "Average Time spent in collage                          0\n",
       "What is general Purposes                               0\n",
       "Which one is your Prefered location                    0\n",
       "What is your preferred time?                           0\n",
       "Preferred language for Learning                        0\n",
       "Preferred type for reading                             0\n",
       "Do you enjoy the Reading                               0\n",
       "Which mode of learning /                               0\n",
       "Dose Covid Pandemic Ch                                 0\n",
       "How do you study before collage                        0\n",
       "How do you study after Collage                         0\n",
       "Do you aware about Nati                                0\n",
       "Do you Using National di                               0\n",
       "Dose Covid 19 Pandemic Affected Your Reading Habits    0\n",
       "Do you purchase Books from store                       0\n",
       "Average Expenditure on books                           0\n",
       "Occupation Of Father                                   0\n",
       "Parents Education                                      0\n",
       "Select your Faculty                                    0\n",
       "Enter your Location                                    0\n",
       "Preferred Language for Learning                        0\n",
       "Do you Using National dig                              0\n",
       "Occupation of Father                                   0\n",
       "dtype: int64"
      ]
     },
     "execution_count": 3,
     "metadata": {},
     "output_type": "execute_result"
    }
   ],
   "source": [
    "reading_df.isnull().sum()"
   ]
  },
  {
   "cell_type": "markdown",
   "id": "732aa392",
   "metadata": {},
   "source": [
    "## 3.2: Outlier Detection"
   ]
  },
  {
   "cell_type": "code",
   "execution_count": 4,
   "id": "47b48750",
   "metadata": {},
   "outputs": [
    {
     "name": "stdout",
     "output_type": "stream",
     "text": [
      "Column Name: Unnamed: 0\n",
      "[1, 1, 1, 1, 1, 1, 1, 1, 1, 1, 1, 1, 1, 1, 1, 1, 1, 1, 1, 1, 1, 1, 1, 1, 1, 1, 1, 1, 1, 1, 1, 1, 1, 1, 1, 1, 1, 1, 1, 1, 1, 1, 1, 1, 1, 1, 1, 1, 1, 1, 1, 1, 1, 1, 1, 1, 1, 1, 1, 1, 1, 1, 1, 1, 1, 1, 1, 1, 1, 1, 1, 1, 1, 1, 1, 1, 1, 1, 1, 1, 1, 1, 1, 1, 1, 1, 1, 1, 1, 1, 1, 1, 1, 1, 1, 1, 1, 1, 1, 1, 1, 1, 1, 1, 1, 1, 1, 1, 1, 1, 1, 1, 1, 1, 1, 1, 1, 1, 1, 1, 1, 1, 1, 1, 1, 1, 1, 1, 1, 1, 1, 1, 1, 1, 1, 1, 1, 1, 1, 1, 1, 1, 1, 1, 1, 1, 1, 1, 1, 1, 1, 1, 1, 1, 1, 1, 1, 1, 1, 1, 1, 1, 1, 1, 1, 1, 1, 1, 1, 1, 1, 1, 1, 1, 1, 1, 1, 1, 1, 1, 1, 1, 1, 1, 1, 1, 1, 1, 1, 1, 1, 1, 1, 1, 1, 1, 1, 1, 1, 1, 1, 1, 1, 1, 1, 1, 1, 1, 1, 1, 1, 1, 1, 1, 1, 1, 1, 1, 1, 1, 1, 1, 1, 1, 1, 1, 1, 1]\n",
      "\n",
      "Column Name: gender\n",
      "[159, 69]\n",
      "\n",
      "Column Name: faculty\n",
      "[209, 7, 6, 6]\n",
      "\n",
      "Column Name: Enter Your Location\n",
      "[182, 46]\n",
      "\n",
      "Column Name: kind of books preffered for study\n",
      "[77, 76, 39, 21, 15]\n",
      "\n",
      "Column Name: How Frequently do you visit library\n",
      "[71, 69, 36, 33, 19]\n",
      "\n",
      "Column Name: For what Purposes do yo visit library\n",
      "[116, 53, 17, 12, 10, 5, 4, 4, 3, 3, 1]\n",
      "\n",
      "Column Name: Average Time spent in collage\n",
      "[51, 40, 36, 27, 24, 23, 6, 4, 4, 3, 2, 2, 2, 1, 1, 1, 1]\n",
      "\n",
      "Column Name: What is general Purposes\n",
      "[131, 38, 17, 16, 12, 7, 4, 2, 1]\n",
      "\n",
      "Column Name: Which one is your Prefered location \n",
      "[84, 47, 17, 15, 14, 10, 9, 9, 5, 3, 3, 3, 2, 2, 2, 1, 1, 1]\n",
      "\n",
      "Column Name: What is your preferred time?\n",
      "[108, 56, 41, 23]\n",
      "\n",
      "Column Name: Preferred language for Learning\n",
      "[194, 27, 6, 1]\n",
      "\n",
      "Column Name: Preferred type for reading\n",
      "[73, 33, 33, 24, 17, 14, 13, 11, 10]\n",
      "\n",
      "Column Name: Do you enjoy the Reading\n",
      "[115, 96, 17]\n",
      "\n",
      "Column Name: Which mode of learning /\n",
      "[87, 62, 52, 19, 8]\n",
      "\n",
      "Column Name: Dose Covid Pandemic Ch\n",
      "[161, 67]\n",
      "\n",
      "Column Name: How do you study before collage\n",
      "[53, 46, 40, 38, 34, 17]\n",
      "\n",
      "Column Name: How do you study after Collage\n",
      "[121, 44, 37, 16, 10]\n",
      "\n",
      "Column Name: Do you aware about Nati\n",
      "[149, 79]\n",
      "\n",
      "Column Name: Do you Using National di\n",
      "[187, 41]\n",
      "\n",
      "Column Name: Dose Covid 19 Pandemic Affected Your Reading Habits\n",
      "[92, 44, 38, 32, 21, 1]\n",
      "\n",
      "Column Name: Do you purchase Books from store\n",
      "[185, 43]\n",
      "\n",
      "Column Name: Average Expenditure on books\n",
      "[138, 80, 10]\n",
      "\n",
      "Column Name: Occupation Of Father\n",
      "[175, 29, 14, 10]\n",
      "\n",
      "Column Name: Parents Education\n",
      "[193, 35]\n",
      "\n",
      "Column Name: Select your Faculty\n",
      "[201, 12, 8, 7]\n",
      "\n",
      "Column Name: Enter your Location\n",
      "[191, 37]\n",
      "\n",
      "Column Name: Preferred Language for Learning\n",
      "[184, 38, 6]\n",
      "\n",
      "Column Name: Do you Using National dig\n",
      "[175, 53]\n",
      "\n",
      "Column Name: Occupation of Father\n",
      "[173, 24, 17, 14]\n",
      "\n"
     ]
    }
   ],
   "source": [
    "labels = reading_df.columns.to_list()\n",
    "for label in range(len(labels)):\n",
    "    curr_label = labels[label]\n",
    "    print('Column Name: ' + str(curr_label))\n",
    "    print(reading_df[curr_label].value_counts().to_list())\n",
    "    print()"
   ]
  },
  {
   "cell_type": "markdown",
   "id": "e785ede3",
   "metadata": {},
   "source": [
    "## 3.3: Data Quality and Consistency\n",
    "\n",
    "The initial dataframe had a few errors that required modification before progressing further. The csv file contained a column that essentially served the purpose of maintaining an index of each row of entries so I first had to remove that column along with duplicate columns towards the back end of the table. Some of the labels were not immediately intuitive so another transformation involved renaming some of the column labels to more intuitive and concise naming conventions as well as standardizing the format to assist with using the strings for data processing in the future. Lastly, it was apparent that within some columns, there was commingling amongst the categories and responses of the same value but with slight differences in the strings. Each column with these errors observed was cleaned and standardized. "
   ]
  },
  {
   "cell_type": "markdown",
   "id": "518fb4e9",
   "metadata": {},
   "source": [
    "### Removing duplicte columns from csv formatting"
   ]
  },
  {
   "cell_type": "code",
   "execution_count": 5,
   "id": "ff7a9340",
   "metadata": {},
   "outputs": [
    {
     "data": {
      "text/plain": [
       "Index(['Unnamed: 0', 'gender', 'faculty', 'Enter Your Location',\n",
       "       'kind of books preffered for study',\n",
       "       'How Frequently do you visit library',\n",
       "       'For what Purposes do yo visit library',\n",
       "       'Average Time spent in collage', 'What is general Purposes',\n",
       "       'Which one is your Prefered location ', 'What is your preferred time?',\n",
       "       'Preferred language for Learning', 'Preferred type for reading',\n",
       "       'Do you enjoy the Reading', 'Which mode of learning /',\n",
       "       'Dose Covid Pandemic Ch', 'How do you study before collage',\n",
       "       'How do you study after Collage', 'Do you aware about Nati',\n",
       "       'Do you Using National di',\n",
       "       'Dose Covid 19 Pandemic Affected Your Reading Habits',\n",
       "       'Do you purchase Books from store', 'Average Expenditure on books',\n",
       "       'Occupation Of Father', 'Parents Education', 'Select your Faculty',\n",
       "       'Enter your Location', 'Preferred Language for Learning',\n",
       "       'Do you Using National dig', 'Occupation of Father'],\n",
       "      dtype='object')"
      ]
     },
     "execution_count": 5,
     "metadata": {},
     "output_type": "execute_result"
    }
   ],
   "source": [
    "reading_df.columns"
   ]
  },
  {
   "cell_type": "code",
   "execution_count": 6,
   "id": "e961b969",
   "metadata": {},
   "outputs": [
    {
     "data": {
      "text/plain": [
       "Index(['gender', 'faculty', 'Enter Your Location',\n",
       "       'kind of books preffered for study',\n",
       "       'How Frequently do you visit library',\n",
       "       'For what Purposes do yo visit library',\n",
       "       'Average Time spent in collage', 'What is general Purposes',\n",
       "       'Which one is your Prefered location ', 'What is your preferred time?',\n",
       "       'Preferred language for Learning', 'Preferred type for reading',\n",
       "       'Do you enjoy the Reading', 'Which mode of learning /',\n",
       "       'Dose Covid Pandemic Ch', 'How do you study before collage',\n",
       "       'How do you study after Collage', 'Do you aware about Nati',\n",
       "       'Do you Using National di',\n",
       "       'Dose Covid 19 Pandemic Affected Your Reading Habits',\n",
       "       'Do you purchase Books from store', 'Average Expenditure on books',\n",
       "       'Occupation Of Father', 'Parents Education'],\n",
       "      dtype='object')"
      ]
     },
     "execution_count": 6,
     "metadata": {},
     "output_type": "execute_result"
    }
   ],
   "source": [
    "removed_labels = ['Unnamed: 0','Select your Faculty',\n",
    "       'Enter your Location', 'Preferred Language for Learning',\n",
    "       'Do you Using National dig', 'Occupation of Father']\n",
    "reading_df.drop(labels=removed_labels, inplace=True, axis=1)\n",
    "reading_df.columns"
   ]
  },
  {
   "cell_type": "markdown",
   "id": "6b0c71b0",
   "metadata": {},
   "source": [
    "### Standardizing column labels"
   ]
  },
  {
   "cell_type": "code",
   "execution_count": 7,
   "id": "160ec088",
   "metadata": {},
   "outputs": [
    {
     "data": {
      "text/plain": [
       "Index(['Gender', 'Department', 'Urbanization level',\n",
       "       'Preffered study material', 'Library visit frequency',\n",
       "       'Library visit purpose', 'Libaray visit length',\n",
       "       'Purpose for attending college', 'Preffered study location',\n",
       "       'Preffered study time', 'Preferred language for Learning',\n",
       "       'Preffered reading material', 'Reading satisfaction',\n",
       "       'Preffered learning modality', 'Covid pandemic impact - learning',\n",
       "       'Pre-College study habits', 'Post-College study habits',\n",
       "       'National Digital Library awareness', 'National Digital Library usage',\n",
       "       'Covid pandemic impact - reading', 'Book store customer',\n",
       "       'Avg book cost - rupees', 'Father's Occupation',\n",
       "       'Parent's Education Level'],\n",
       "      dtype='object')"
      ]
     },
     "execution_count": 7,
     "metadata": {},
     "output_type": "execute_result"
    }
   ],
   "source": [
    "renaming_labels = {\n",
    "    'gender': 'Gender',\n",
    "    'faculty':'Department',\n",
    "    'Enter Your Location': 'Urbanization level',\n",
    "    'kind of books preffered for study': 'Preffered study material',\n",
    "    'How Frequently do you visit library': 'Library visit frequency',\n",
    "    'For what Purposes do yo visit library': 'Library visit purpose',\n",
    "    'Average Time spent in collage': 'Libaray visit length',\n",
    "    'What is general Purposes': 'Purpose for attending college',\n",
    "    'Which one is your Prefered location ':'Preffered study location',\n",
    "    'What is your preferred time?':'Preffered study time',\n",
    "    'Preferred type for reading':'Preffered reading material',\n",
    "    'Do you enjoy the Reading':'Reading satisfaction',\n",
    "    'Which mode of learning /':'Preffered learning modality',\n",
    "    'Dose Covid Pandemic Ch':'Covid pandemic impact - learning',\n",
    "    'How do you study before collage':'Pre-College study habits',\n",
    "    'How do you study after Collage':'Post-College study habits',\n",
    "    'Do you aware about Nati':'National Digital Library awareness',\n",
    "    'Do you Using National di':'National Digital Library usage',\n",
    "    'Dose Covid 19 Pandemic Affected Your Reading Habits':'Covid pandemic impact - reading',\n",
    "    'Do you purchase Books from store':'Book store customer',\n",
    "    'Average Expenditure on books':'Avg book cost - rupees',\n",
    "    'Occupation Of Father':'Father\\'s Occupation',\n",
    "    'Parents Education':'Parent\\'s Education Level'\n",
    "}\n",
    "\n",
    "reading_df.rename(columns = renaming_labels, inplace=True)\n",
    "reading_df.columns"
   ]
  },
  {
   "cell_type": "markdown",
   "id": "651bdf26",
   "metadata": {},
   "source": [
    "### Combining duplicate strings/non-uniform entries"
   ]
  },
  {
   "cell_type": "markdown",
   "id": "c2f61e6f",
   "metadata": {},
   "source": [
    "***\n",
    "**Library visit purpose**"
   ]
  },
  {
   "cell_type": "code",
   "execution_count": 8,
   "id": "5ef40379",
   "metadata": {},
   "outputs": [
    {
     "data": {
      "text/plain": [
       "array(['For Reading Novels and', 'To Complete Assignment',\n",
       "       'To read Daily News pape', 'To borrow library material',\n",
       "       'To read Daily News pape r', 'To photo copy reading m',\n",
       "       'Reference books', 'To use the internet',\n",
       "       'To photo copy reading ma', 'Other', 'To Read Daily News Pap'],\n",
       "      dtype=object)"
      ]
     },
     "execution_count": 8,
     "metadata": {},
     "output_type": "execute_result"
    }
   ],
   "source": [
    "reading_df['Library visit purpose'].unique()"
   ]
  },
  {
   "cell_type": "code",
   "execution_count": 9,
   "id": "e441ad20",
   "metadata": {},
   "outputs": [],
   "source": [
    "def format_libvisit_purpose(inp_str):\n",
    "    remapping = {\n",
    "        'For Reading Novels and': 'Reading novels',\n",
    "        'To read Daily News pape': 'Reading daily newspaper',\n",
    "        'To read Daily News pape r': 'Reading daily newspaper',\n",
    "        'To Read Daily News Pap': 'Reading daily newspaper',\n",
    "        'To photo copy reading m': 'Photo copying material',\n",
    "        'To photo copy reading ma': 'Photo copying material',\n",
    "        'To Complete Assignment': 'Completing assignments',\n",
    "        'To use the internet': 'Intenet use',\n",
    "        'To borrow library material': 'Borrow library material'\n",
    "    }\n",
    "\n",
    "    return remapping.get(inp_str, inp_str)"
   ]
  },
  {
   "cell_type": "code",
   "execution_count": 10,
   "id": "65c090ef",
   "metadata": {},
   "outputs": [
    {
     "data": {
      "text/plain": [
       "array(['Reading novels', 'Completing assignments',\n",
       "       'Reading daily newspaper', 'Borrow library material',\n",
       "       'Photo copying material', 'Reference books', 'Intenet use',\n",
       "       'Other'], dtype=object)"
      ]
     },
     "execution_count": 10,
     "metadata": {},
     "output_type": "execute_result"
    }
   ],
   "source": [
    "reading_df['Library visit purpose'] = reading_df['Library visit purpose'].apply(lambda inp_str: format_libvisit_purpose(inp_str))\n",
    "reading_df['Library visit purpose'].unique()"
   ]
  },
  {
   "cell_type": "markdown",
   "id": "4d077b75",
   "metadata": {},
   "source": [
    "***\n",
    "**Libaray visit length**"
   ]
  },
  {
   "cell_type": "code",
   "execution_count": 11,
   "id": "d07dc26c",
   "metadata": {},
   "outputs": [
    {
     "data": {
      "text/plain": [
       "array(['s 2-4 hours', 's Less than an hour', 'Less than an hour',\n",
       "       '2-4 hours', 's 6 and Above', 'g Less than an hour', 'g 2-4 hours',\n",
       "       'a 2-4 hours', 'a Less than an hour', 'g 6 and Above',\n",
       "       'e 5-6 hours', 'e Less than an hour', 'g 5-6 hours', '5-6 hours',\n",
       "       '6 and Above', 'e 2-4 hours', 'To borrow library materials'],\n",
       "      dtype=object)"
      ]
     },
     "execution_count": 11,
     "metadata": {},
     "output_type": "execute_result"
    }
   ],
   "source": [
    "reading_df['Libaray visit length'].unique()"
   ]
  },
  {
   "cell_type": "code",
   "execution_count": 12,
   "id": "fffbecc3",
   "metadata": {},
   "outputs": [],
   "source": [
    "def format_libvisit_length(inp_str):\n",
    "    remapping = {\n",
    "        's 2-4 hours': '2-4 hrs',\n",
    "        's Less than an hour': '<1 hr',\n",
    "        'Less than an hour': '<1 hr',\n",
    "        '2-4 hours': '2-4 hrs',\n",
    "        's 6 and Above': '6+ hrs',\n",
    "        'g Less than an hour': '<1 hr',\n",
    "        'g 2-4 hours': '2-4 hrs',\n",
    "        'a 2-4 hours': '2-4 hrs',\n",
    "        'a Less than an hour': '<1 hr',\n",
    "        'g 6 and Above': '6+ hrs',\n",
    "        'e 5-6 hours': '5-6 hrs',\n",
    "        'e Less than an hour': '<1 hr',\n",
    "        'g 5-6 hours': '5-6 hrs',\n",
    "        '5-6 hours': '5-6 hrs',\n",
    "        '6 and Above': '6+ hrs',\n",
    "        'e 2-4 hours': '2-4 hrs',\n",
    "        'To borrow library materials': '0'\n",
    "    }\n",
    "    return remapping.get(inp_str, inp_str)"
   ]
  },
  {
   "cell_type": "code",
   "execution_count": 13,
   "id": "00dbab78",
   "metadata": {},
   "outputs": [
    {
     "data": {
      "text/plain": [
       "array(['2-4 hrs', '<1 hr', '6+ hrs', '5-6 hrs', '0'], dtype=object)"
      ]
     },
     "execution_count": 13,
     "metadata": {},
     "output_type": "execute_result"
    }
   ],
   "source": [
    "reading_df['Libaray visit length'] = reading_df['Libaray visit length'].apply(lambda inp_str: format_libvisit_length(inp_str))\n",
    "reading_df['Libaray visit length'].unique()"
   ]
  },
  {
   "cell_type": "markdown",
   "id": "89f04d7c",
   "metadata": {},
   "source": [
    "***\n",
    "**Purpose for attending college**"
   ]
  },
  {
   "cell_type": "code",
   "execution_count": 14,
   "id": "8c23f4c8",
   "metadata": {},
   "outputs": [
    {
     "data": {
      "text/plain": [
       "array(['To while away time', 'To pass the examination',\n",
       "       'To get the knowledge and', 'To be well informed',\n",
       "       'To increase General Kno', 'For career development',\n",
       "       'To prepare class Assignm', 'For Career Development',\n",
       "       'To Pass the examination'], dtype=object)"
      ]
     },
     "execution_count": 14,
     "metadata": {},
     "output_type": "execute_result"
    }
   ],
   "source": [
    "reading_df['Purpose for attending college'].unique()"
   ]
  },
  {
   "cell_type": "code",
   "execution_count": 15,
   "id": "a4530239",
   "metadata": {},
   "outputs": [],
   "source": [
    "def format_college_purpose(inp_str):\n",
    "    remapping = {\n",
    "        'To while away time': 'Idling',\n",
    "        'To pass the examinatio': 'Passing exam',\n",
    "        'To pass the examination': 'Passing exam',\n",
    "        'To increase General Kno': 'Increasing general knowledge',\n",
    "        'To get the knowledge and': 'Increasing general knowledge',\n",
    "        'For career development': 'Career development',\n",
    "        'For Career Development': 'Career development',\n",
    "        'To prepare class Assignm': 'Class assignment preparation',\n",
    "        'To Pass the examination': 'Passing exam',\n",
    "        'To be well informed': 'Becoming well informed'\n",
    "        \n",
    "    }\n",
    "    return remapping.get(inp_str, inp_str)"
   ]
  },
  {
   "cell_type": "code",
   "execution_count": 16,
   "id": "24dcd849",
   "metadata": {},
   "outputs": [
    {
     "data": {
      "text/plain": [
       "array(['Idling', 'Passing exam', 'Increasing general knowledge',\n",
       "       'Becoming well informed', 'Career development',\n",
       "       'Class assignment preparation'], dtype=object)"
      ]
     },
     "execution_count": 16,
     "metadata": {},
     "output_type": "execute_result"
    }
   ],
   "source": [
    "reading_df['Purpose for attending college'] = reading_df['Purpose for attending college'].apply(lambda inp_str: format_college_purpose(inp_str))\n",
    "reading_df['Purpose for attending college'].unique()"
   ]
  },
  {
   "cell_type": "markdown",
   "id": "4515b01a",
   "metadata": {},
   "source": [
    "***\n",
    "**Preffered study location**"
   ]
  },
  {
   "cell_type": "code",
   "execution_count": 17,
   "id": "894f25c6",
   "metadata": {},
   "outputs": [
    {
     "data": {
      "text/plain": [
       "array(['Home', 'Class Room', 'Central Library', 'Park or Garden',\n",
       "       'w Park or Garden', 'w Home', 'Campus Ground', 'w Campus Ground',\n",
       "       'College lab', 'w Other places', 'w College lab', 'w Class Room',\n",
       "       'Other places', 'w Central Library', 'College Lab',\n",
       "       'To prepare class Assignments', 'Other Places', 'w College Lab'],\n",
       "      dtype=object)"
      ]
     },
     "execution_count": 17,
     "metadata": {},
     "output_type": "execute_result"
    }
   ],
   "source": [
    "reading_df['Preffered study location'].unique()"
   ]
  },
  {
   "cell_type": "code",
   "execution_count": 18,
   "id": "f88a68b5",
   "metadata": {},
   "outputs": [],
   "source": [
    "def format_study_loc(inp_str):\n",
    "    remapping = {\n",
    "        'w Park or Garden': 'Park or Garden',\n",
    "        'w Home': 'Home',\n",
    "        'w Campus Ground': 'Campus Ground',\n",
    "        'w Other places': 'Other places',\n",
    "        'Other Places': 'Other places',\n",
    "        'w College lab': 'College lab',\n",
    "        'Class Room': 'Classroom',\n",
    "        'w Class Room': 'Classroom',\n",
    "        'w Central Library': 'Central Library',\n",
    "        'To prepare class Assignments': 'Central Library',\n",
    "        'w College Lab': 'College lab',\n",
    "        'College Lab': 'College lab'\n",
    "    }\n",
    "    return remapping.get(inp_str, inp_str)"
   ]
  },
  {
   "cell_type": "code",
   "execution_count": 19,
   "id": "419be4ae",
   "metadata": {},
   "outputs": [
    {
     "data": {
      "text/plain": [
       "array(['Home', 'Classroom', 'Central Library', 'Park or Garden',\n",
       "       'Campus Ground', 'College lab', 'Other places'], dtype=object)"
      ]
     },
     "execution_count": 19,
     "metadata": {},
     "output_type": "execute_result"
    }
   ],
   "source": [
    "reading_df['Preffered study location'] = reading_df['Preffered study location'].apply(lambda inp_str: format_study_loc(inp_str))\n",
    "reading_df['Preffered study location'].unique()"
   ]
  },
  {
   "cell_type": "markdown",
   "id": "c57d7808",
   "metadata": {},
   "source": [
    "***\n",
    "**Preffered reading material**"
   ]
  },
  {
   "cell_type": "code",
   "execution_count": 20,
   "id": "68819482",
   "metadata": {},
   "outputs": [
    {
     "data": {
      "text/plain": [
       "array(['Stories and novels', 'Magazines', 'Others', 'Text books',\n",
       "       'Reference books', 'New paper', 'Competitive books',\n",
       "       'Journal articles', 'New Paper'], dtype=object)"
      ]
     },
     "execution_count": 20,
     "metadata": {},
     "output_type": "execute_result"
    }
   ],
   "source": [
    "reading_df['Preffered reading material'].unique()"
   ]
  },
  {
   "cell_type": "code",
   "execution_count": 21,
   "id": "07ca750a",
   "metadata": {},
   "outputs": [],
   "source": [
    "def format_reading_material(inp_str):\n",
    "    remapping = {\n",
    "        'New paper': 'Newspaper',\n",
    "        'New Paper': 'Newspaper'\n",
    "    }\n",
    "    return remapping.get(inp_str, inp_str)"
   ]
  },
  {
   "cell_type": "code",
   "execution_count": 22,
   "id": "8a954441",
   "metadata": {},
   "outputs": [
    {
     "data": {
      "text/plain": [
       "array(['Stories and novels', 'Magazines', 'Others', 'Text books',\n",
       "       'Reference books', 'Newspaper', 'Competitive books',\n",
       "       'Journal articles'], dtype=object)"
      ]
     },
     "execution_count": 22,
     "metadata": {},
     "output_type": "execute_result"
    }
   ],
   "source": [
    "reading_df['Preffered reading material'] = reading_df['Preffered reading material'].apply(lambda inp_str: format_reading_material(inp_str))\n",
    "reading_df['Preffered reading material'].unique()"
   ]
  },
  {
   "cell_type": "markdown",
   "id": "9d44c2c4",
   "metadata": {},
   "source": [
    "***\n",
    "**Preffered learning modality**"
   ]
  },
  {
   "cell_type": "code",
   "execution_count": 23,
   "id": "da11409c",
   "metadata": {},
   "outputs": [
    {
     "data": {
      "text/plain": [
       "array(['Hard copy of Reading ma', 'Academic Videos',\n",
       "       'soft copy of Reading mat', 'soft copy of Reading mat e',\n",
       "       'Hard copy of Reading Ma'], dtype=object)"
      ]
     },
     "execution_count": 23,
     "metadata": {},
     "output_type": "execute_result"
    }
   ],
   "source": [
    "reading_df['Preffered learning modality'].unique()"
   ]
  },
  {
   "cell_type": "code",
   "execution_count": 24,
   "id": "5d0acb33",
   "metadata": {},
   "outputs": [],
   "source": [
    "def format_learning_modality(inp_str):\n",
    "    remapping = {\n",
    "        'Hard copy of Reading ma': 'Hard copies',\n",
    "        'soft copy of Reading mat': 'Soft copies',\n",
    "        'oft copy of Reading mat e': 'Soft copies',\n",
    "        'Hard copy of Reading Ma': 'Hard copies',\n",
    "        'soft copy of Reading mat e': 'Soft copies'\n",
    "    }\n",
    "    return remapping.get(inp_str, inp_str)"
   ]
  },
  {
   "cell_type": "code",
   "execution_count": 25,
   "id": "70671b8f",
   "metadata": {},
   "outputs": [
    {
     "data": {
      "text/plain": [
       "array(['Hard copies', 'Academic Videos', 'Soft copies'], dtype=object)"
      ]
     },
     "execution_count": 25,
     "metadata": {},
     "output_type": "execute_result"
    }
   ],
   "source": [
    "reading_df['Preffered learning modality'] = reading_df['Preffered learning modality'].apply(lambda inp_str: format_learning_modality(inp_str))\n",
    "reading_df['Preffered learning modality'].unique()"
   ]
  },
  {
   "cell_type": "markdown",
   "id": "752f5705",
   "metadata": {},
   "source": [
    "***\n",
    "**Pre-College study habits**"
   ]
  },
  {
   "cell_type": "code",
   "execution_count": 26,
   "id": "c6225afe",
   "metadata": {},
   "outputs": [
    {
     "data": {
      "text/plain": [
       "array(['Reading soft copy of boo k', 'Watching Lecture Videos',\n",
       "       'Reading books in library a', 'a', 'Reading books in library',\n",
       "       'Reading soft copy of boo'], dtype=object)"
      ]
     },
     "execution_count": 26,
     "metadata": {},
     "output_type": "execute_result"
    }
   ],
   "source": [
    "reading_df['Pre-College study habits'].unique()"
   ]
  },
  {
   "cell_type": "code",
   "execution_count": 27,
   "id": "1c0c3e32",
   "metadata": {},
   "outputs": [],
   "source": [
    "def format_precollege_habit(inp_str):\n",
    "    remapping = {\n",
    "        'Reading soft copy of boo k': 'Soft copies',\n",
    "        'a': 'Reading books in library',\n",
    "        'Reading books in library a': 'Reading books in library',\n",
    "        'Reading soft copy of boo': 'Soft copies'\n",
    "    }\n",
    "    return remapping.get(inp_str, inp_str)"
   ]
  },
  {
   "cell_type": "code",
   "execution_count": 28,
   "id": "e051b203",
   "metadata": {},
   "outputs": [
    {
     "data": {
      "text/plain": [
       "array(['Soft copies', 'Watching Lecture Videos',\n",
       "       'Reading books in library'], dtype=object)"
      ]
     },
     "execution_count": 28,
     "metadata": {},
     "output_type": "execute_result"
    }
   ],
   "source": [
    "reading_df['Pre-College study habits'] = reading_df['Pre-College study habits'].apply(lambda inp_str: format_precollege_habit(inp_str))\n",
    "reading_df['Pre-College study habits'].unique()"
   ]
  },
  {
   "cell_type": "markdown",
   "id": "cbe517e5",
   "metadata": {},
   "source": [
    "***\n",
    "**Post-College study habits**"
   ]
  },
  {
   "cell_type": "code",
   "execution_count": 29,
   "id": "e4cd4e91",
   "metadata": {},
   "outputs": [
    {
     "data": {
      "text/plain": [
       "array(['Reading soft copy of boo k', 'Watching Lecture Videos',\n",
       "       'Reading books in library a', 'a', 'Reading Books in Library'],\n",
       "      dtype=object)"
      ]
     },
     "execution_count": 29,
     "metadata": {},
     "output_type": "execute_result"
    }
   ],
   "source": [
    "reading_df['Post-College study habits'].unique()"
   ]
  },
  {
   "cell_type": "code",
   "execution_count": 30,
   "id": "bf12d190",
   "metadata": {},
   "outputs": [],
   "source": [
    "def format_postcollege_habit(inp_str):\n",
    "    remapping = {\n",
    "        'Reading soft copy of boo k': 'Soft copies',\n",
    "        'a': 'Reading books in library',\n",
    "        'Reading books in library a': 'Reading books in library',\n",
    "        'Reading Books in Library': 'Reading books in library'\n",
    "    }\n",
    "    return remapping.get(inp_str, inp_str)"
   ]
  },
  {
   "cell_type": "code",
   "execution_count": 31,
   "id": "69ff3b3f",
   "metadata": {},
   "outputs": [
    {
     "data": {
      "text/plain": [
       "array(['Soft copies', 'Watching Lecture Videos',\n",
       "       'Reading books in library'], dtype=object)"
      ]
     },
     "execution_count": 31,
     "metadata": {},
     "output_type": "execute_result"
    }
   ],
   "source": [
    "reading_df['Post-College study habits'] = reading_df['Post-College study habits'].apply(lambda inp_str: format_postcollege_habit(inp_str))\n",
    "reading_df['Post-College study habits'].unique()"
   ]
  },
  {
   "cell_type": "markdown",
   "id": "546826ca",
   "metadata": {},
   "source": [
    "***\n",
    "**Covid pandemic impact - reading**"
   ]
  },
  {
   "cell_type": "code",
   "execution_count": 32,
   "id": "cbbdf8fb",
   "metadata": {},
   "outputs": [
    {
     "data": {
      "text/plain": [
       "array(['No - Not Affected', 'Yes - Positively Affected',\n",
       "       'Yes- Negatively Affected', 'Yes, In some way',\n",
       "       'No - Positively Affected', 'Yes - Negatively Affected'],\n",
       "      dtype=object)"
      ]
     },
     "execution_count": 32,
     "metadata": {},
     "output_type": "execute_result"
    }
   ],
   "source": [
    "reading_df['Covid pandemic impact - reading'].unique()"
   ]
  },
  {
   "cell_type": "code",
   "execution_count": 33,
   "id": "34ff477c",
   "metadata": {},
   "outputs": [],
   "source": [
    "def format_pandemic_impact_r(inp_str):\n",
    "    remapping = {\n",
    "        'Yes- Negatively Affected': 'Yes - Negatively Affected',\n",
    "        'Yes, In some way' : 'Yes - In some way'\n",
    "    }\n",
    "    return remapping.get(inp_str, inp_str)"
   ]
  },
  {
   "cell_type": "code",
   "execution_count": 34,
   "id": "567b29d4",
   "metadata": {},
   "outputs": [
    {
     "data": {
      "text/plain": [
       "array(['No - Not Affected', 'Yes - Positively Affected',\n",
       "       'Yes - Negatively Affected', 'Yes - In some way',\n",
       "       'No - Positively Affected'], dtype=object)"
      ]
     },
     "execution_count": 34,
     "metadata": {},
     "output_type": "execute_result"
    }
   ],
   "source": [
    "reading_df['Covid pandemic impact - reading'] = reading_df['Covid pandemic impact - reading'].apply(lambda inp_str: format_pandemic_impact_r(inp_str))\n",
    "reading_df['Covid pandemic impact - reading'].unique()"
   ]
  },
  {
   "cell_type": "markdown",
   "id": "8a1d293b",
   "metadata": {},
   "source": [
    "## 3.4: Data Quality and Consistency\n"
   ]
  },
  {
   "cell_type": "code",
   "execution_count": null,
   "id": "f4ac4cc1",
   "metadata": {},
   "outputs": [],
   "source": []
  }
 ],
 "metadata": {
  "kernelspec": {
   "display_name": "Python 3 (ipykernel)",
   "language": "python",
   "name": "python3"
  },
  "language_info": {
   "codemirror_mode": {
    "name": "ipython",
    "version": 3
   },
   "file_extension": ".py",
   "mimetype": "text/x-python",
   "name": "python",
   "nbconvert_exporter": "python",
   "pygments_lexer": "ipython3",
   "version": "3.10.6"
  }
 },
 "nbformat": 4,
 "nbformat_minor": 5
}
