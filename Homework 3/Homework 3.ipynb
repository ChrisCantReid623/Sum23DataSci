{
 "cells": [
  {
   "cell_type": "markdown",
   "id": "17e2efee",
   "metadata": {},
   "source": [
    "# Christopher Reid - CSC 380 - Homework 3"
   ]
  },
  {
   "cell_type": "code",
   "execution_count": 1,
   "id": "86df61bf",
   "metadata": {},
   "outputs": [],
   "source": [
    "# Imports\n",
    "import pandas as pd\n",
    "from datetime import datetime\n",
    "import matplotlib.pyplot as plt\n",
    "from sklearn.preprocessing import LabelEncoder\n",
    "from sklearn.model_selection import train_test_split\n",
    "from sklearn.linear_model import LinearRegression\n",
    "import numpy as np\n",
    "from sklearn.metrics import mean_squared_error, r2_score\n",
    "from sklearn import linear_model"
   ]
  },
  {
   "cell_type": "markdown",
   "id": "7fe74568",
   "metadata": {},
   "source": [
    "# Part 1: Project Setup\n",
    "- Download the dataset from the website. Place the file in the same folder that you have your Ipython notebook. So your code will be pd.read_csv(’filename.csv’). ie no folders in paths.\n",
    "\n",
    "- Read the data into a dataframe named data_df.\n",
    "\n",
    "- Show 5 random rows of the dataframe."
   ]
  },
  {
   "cell_type": "code",
   "execution_count": 2,
   "id": "82f18d85",
   "metadata": {},
   "outputs": [
    {
     "data": {
      "text/html": [
       "<div>\n",
       "<style scoped>\n",
       "    .dataframe tbody tr th:only-of-type {\n",
       "        vertical-align: middle;\n",
       "    }\n",
       "\n",
       "    .dataframe tbody tr th {\n",
       "        vertical-align: top;\n",
       "    }\n",
       "\n",
       "    .dataframe thead th {\n",
       "        text-align: right;\n",
       "    }\n",
       "</style>\n",
       "<table border=\"1\" class=\"dataframe\">\n",
       "  <thead>\n",
       "    <tr style=\"text-align: right;\">\n",
       "      <th></th>\n",
       "      <th>START_DATE</th>\n",
       "      <th>END_DATE</th>\n",
       "      <th>CATEGORY</th>\n",
       "      <th>START</th>\n",
       "      <th>STOP</th>\n",
       "      <th>MILES</th>\n",
       "      <th>PURPOSE</th>\n",
       "    </tr>\n",
       "  </thead>\n",
       "  <tbody>\n",
       "    <tr>\n",
       "      <th>1077</th>\n",
       "      <td>12/20/2016 16:56</td>\n",
       "      <td>12/20/2016 17:07</td>\n",
       "      <td>Business</td>\n",
       "      <td>Islamabad</td>\n",
       "      <td>Islamabad</td>\n",
       "      <td>1.4</td>\n",
       "      <td>Errand/Supplies</td>\n",
       "    </tr>\n",
       "    <tr>\n",
       "      <th>1078</th>\n",
       "      <td>12/20/2016 18:47</td>\n",
       "      <td>12/20/2016 19:21</td>\n",
       "      <td>Business</td>\n",
       "      <td>Islamabad</td>\n",
       "      <td>Unknown Location</td>\n",
       "      <td>10.3</td>\n",
       "      <td>Customer Visit</td>\n",
       "    </tr>\n",
       "    <tr>\n",
       "      <th>1047</th>\n",
       "      <td>12-12-2016 20:48</td>\n",
       "      <td>12-12-2016 20:57</td>\n",
       "      <td>Business</td>\n",
       "      <td>Morrisville</td>\n",
       "      <td>Cary</td>\n",
       "      <td>3.0</td>\n",
       "      <td>Customer Visit</td>\n",
       "    </tr>\n",
       "    <tr>\n",
       "      <th>935</th>\n",
       "      <td>11-10-2016 19:18</td>\n",
       "      <td>11-10-2016 19:21</td>\n",
       "      <td>Business</td>\n",
       "      <td>West Berkeley</td>\n",
       "      <td>Central</td>\n",
       "      <td>0.8</td>\n",
       "      <td>NaN</td>\n",
       "    </tr>\n",
       "    <tr>\n",
       "      <th>428</th>\n",
       "      <td>06-11-2016 17:50</td>\n",
       "      <td>06-11-2016 17:56</td>\n",
       "      <td>Business</td>\n",
       "      <td>Westpark Place</td>\n",
       "      <td>Whitebridge</td>\n",
       "      <td>1.7</td>\n",
       "      <td>NaN</td>\n",
       "    </tr>\n",
       "  </tbody>\n",
       "</table>\n",
       "</div>"
      ],
      "text/plain": [
       "            START_DATE          END_DATE  CATEGORY           START  \\\n",
       "1077  12/20/2016 16:56  12/20/2016 17:07  Business       Islamabad   \n",
       "1078  12/20/2016 18:47  12/20/2016 19:21  Business       Islamabad   \n",
       "1047  12-12-2016 20:48  12-12-2016 20:57  Business     Morrisville   \n",
       "935   11-10-2016 19:18  11-10-2016 19:21  Business   West Berkeley   \n",
       "428   06-11-2016 17:50  06-11-2016 17:56  Business  Westpark Place   \n",
       "\n",
       "                  STOP  MILES          PURPOSE  \n",
       "1077         Islamabad    1.4  Errand/Supplies  \n",
       "1078  Unknown Location   10.3   Customer Visit  \n",
       "1047              Cary    3.0   Customer Visit  \n",
       "935            Central    0.8              NaN  \n",
       "428        Whitebridge    1.7              NaN  "
      ]
     },
     "execution_count": 2,
     "metadata": {},
     "output_type": "execute_result"
    }
   ],
   "source": [
    "data_df = pd.read_csv('dataset.csv')\n",
    "data_df.sample(5)"
   ]
  },
  {
   "cell_type": "markdown",
   "id": "9a2f1bc5",
   "metadata": {},
   "source": [
    "# Part 2: Dataset Description"
   ]
  },
  {
   "cell_type": "markdown",
   "id": "b57bca01",
   "metadata": {},
   "source": [
    "**1. Print a concise summary of a DataFrame. Output expected below.**"
   ]
  },
  {
   "cell_type": "code",
   "execution_count": 3,
   "id": "0713ca80",
   "metadata": {},
   "outputs": [
    {
     "name": "stdout",
     "output_type": "stream",
     "text": [
      "<class 'pandas.core.frame.DataFrame'>\n",
      "RangeIndex: 1156 entries, 0 to 1155\n",
      "Data columns (total 7 columns):\n",
      " #   Column      Non-Null Count  Dtype  \n",
      "---  ------      --------------  -----  \n",
      " 0   START_DATE  1156 non-null   object \n",
      " 1   END_DATE    1155 non-null   object \n",
      " 2   CATEGORY    1155 non-null   object \n",
      " 3   START       1155 non-null   object \n",
      " 4   STOP        1155 non-null   object \n",
      " 5   MILES       1156 non-null   float64\n",
      " 6   PURPOSE     653 non-null    object \n",
      "dtypes: float64(1), object(6)\n",
      "memory usage: 63.3+ KB\n"
     ]
    }
   ],
   "source": [
    "data_df.info()"
   ]
  },
  {
   "cell_type": "markdown",
   "id": "71361ceb",
   "metadata": {},
   "source": [
    "**2. Generate descriptive statistics. Output expected below.**"
   ]
  },
  {
   "cell_type": "code",
   "execution_count": 4,
   "id": "9f229f5a",
   "metadata": {},
   "outputs": [
    {
     "data": {
      "text/html": [
       "<div>\n",
       "<style scoped>\n",
       "    .dataframe tbody tr th:only-of-type {\n",
       "        vertical-align: middle;\n",
       "    }\n",
       "\n",
       "    .dataframe tbody tr th {\n",
       "        vertical-align: top;\n",
       "    }\n",
       "\n",
       "    .dataframe thead th {\n",
       "        text-align: right;\n",
       "    }\n",
       "</style>\n",
       "<table border=\"1\" class=\"dataframe\">\n",
       "  <thead>\n",
       "    <tr style=\"text-align: right;\">\n",
       "      <th></th>\n",
       "      <th>MILES</th>\n",
       "    </tr>\n",
       "  </thead>\n",
       "  <tbody>\n",
       "    <tr>\n",
       "      <th>count</th>\n",
       "      <td>1156.000000</td>\n",
       "    </tr>\n",
       "    <tr>\n",
       "      <th>mean</th>\n",
       "      <td>21.115398</td>\n",
       "    </tr>\n",
       "    <tr>\n",
       "      <th>std</th>\n",
       "      <td>359.299007</td>\n",
       "    </tr>\n",
       "    <tr>\n",
       "      <th>min</th>\n",
       "      <td>0.500000</td>\n",
       "    </tr>\n",
       "    <tr>\n",
       "      <th>25%</th>\n",
       "      <td>2.900000</td>\n",
       "    </tr>\n",
       "    <tr>\n",
       "      <th>50%</th>\n",
       "      <td>6.000000</td>\n",
       "    </tr>\n",
       "    <tr>\n",
       "      <th>75%</th>\n",
       "      <td>10.400000</td>\n",
       "    </tr>\n",
       "    <tr>\n",
       "      <th>max</th>\n",
       "      <td>12204.700000</td>\n",
       "    </tr>\n",
       "  </tbody>\n",
       "</table>\n",
       "</div>"
      ],
      "text/plain": [
       "              MILES\n",
       "count   1156.000000\n",
       "mean      21.115398\n",
       "std      359.299007\n",
       "min        0.500000\n",
       "25%        2.900000\n",
       "50%        6.000000\n",
       "75%       10.400000\n",
       "max    12204.700000"
      ]
     },
     "execution_count": 4,
     "metadata": {},
     "output_type": "execute_result"
    }
   ],
   "source": [
    "data_df['MILES'].describe().to_frame()"
   ]
  },
  {
   "cell_type": "markdown",
   "id": "eff098be",
   "metadata": {},
   "source": [
    "# Part 3: Data Processing"
   ]
  },
  {
   "cell_type": "markdown",
   "id": "6c53e2f8",
   "metadata": {},
   "source": [
    "## 3.1: Start Date"
   ]
  },
  {
   "cell_type": "markdown",
   "id": "cf210022",
   "metadata": {},
   "source": [
    "**1. Check if there are any NaN values in the Start Date column.**"
   ]
  },
  {
   "cell_type": "code",
   "execution_count": 5,
   "id": "e47289b2",
   "metadata": {},
   "outputs": [
    {
     "data": {
      "text/plain": [
       "0       False\n",
       "1       False\n",
       "2       False\n",
       "3       False\n",
       "4       False\n",
       "        ...  \n",
       "1151    False\n",
       "1152    False\n",
       "1153    False\n",
       "1154    False\n",
       "1155    False\n",
       "Name: START_DATE, Length: 1156, dtype: bool"
      ]
     },
     "execution_count": 5,
     "metadata": {},
     "output_type": "execute_result"
    }
   ],
   "source": [
    "data_df['START_DATE'].isnull()"
   ]
  },
  {
   "cell_type": "markdown",
   "id": "15e3a7ff",
   "metadata": {},
   "source": [
    "**2. Extract the time part of the start date string, and save it to a new column named start\n",
    "time.**"
   ]
  },
  {
   "cell_type": "code",
   "execution_count": 6,
   "id": "57ca5cbc",
   "metadata": {},
   "outputs": [],
   "source": [
    "def format_time(input_str):\n",
    "    cleaned_str = input_str.split(' ')[1]\n",
    "    return cleaned_str"
   ]
  },
  {
   "cell_type": "code",
   "execution_count": 7,
   "id": "59d7645f",
   "metadata": {},
   "outputs": [
    {
     "data": {
      "text/plain": [
       "0       21:11\n",
       "1       01:25\n",
       "2       20:25\n",
       "3       17:31\n",
       "4       14:42\n",
       "        ...  \n",
       "1151    13:24\n",
       "1152    15:03\n",
       "1153    21:32\n",
       "1154    22:08\n",
       "1155      NaN\n",
       "Name: start time, Length: 1156, dtype: object"
      ]
     },
     "execution_count": 7,
     "metadata": {},
     "output_type": "execute_result"
    }
   ],
   "source": [
    "data_df['start time'] = data_df['START_DATE'].iloc[:1155].apply(lambda input_str: format_time(input_str))\n",
    "data_df['start time']"
   ]
  },
  {
   "cell_type": "markdown",
   "id": "5a89a3a6",
   "metadata": {},
   "source": [
    "**3. Convert the column Start date to an appropriate datatype.**"
   ]
  },
  {
   "cell_type": "code",
   "execution_count": 8,
   "id": "663e7ac0",
   "metadata": {},
   "outputs": [],
   "source": [
    "def convert_startdate(input_string):\n",
    "    if '-' in input_string:\n",
    "        new_string = datetime.strptime(input_string,'%m-%d-%Y %H:%M')\n",
    "    else:\n",
    "        new_string = datetime.strptime(input_string,'%m/%d/%Y %H:%M')\n",
    "    return new_string"
   ]
  },
  {
   "cell_type": "code",
   "execution_count": 9,
   "id": "7ef57553",
   "metadata": {},
   "outputs": [
    {
     "data": {
      "text/plain": [
       "0      2016-01-01 21:11:00\n",
       "1      2016-01-02 01:25:00\n",
       "2      2016-01-02 20:25:00\n",
       "3      2016-01-05 17:31:00\n",
       "4      2016-01-06 14:42:00\n",
       "               ...        \n",
       "1151   2016-12-31 13:24:00\n",
       "1152   2016-12-31 15:03:00\n",
       "1153   2016-12-31 21:32:00\n",
       "1154   2016-12-31 22:08:00\n",
       "1155                   NaT\n",
       "Name: START_DATE, Length: 1156, dtype: datetime64[ns]"
      ]
     },
     "execution_count": 9,
     "metadata": {},
     "output_type": "execute_result"
    }
   ],
   "source": [
    "data_df['START_DATE'] = data_df['START_DATE'].iloc[:1155].apply(lambda input_str: convert_startdate(input_str))\n",
    "data_df['START_DATE']"
   ]
  },
  {
   "cell_type": "markdown",
   "id": "8b7b5ee3",
   "metadata": {},
   "source": [
    "## 3.2: End Date"
   ]
  },
  {
   "cell_type": "markdown",
   "id": "f1424e69",
   "metadata": {},
   "source": [
    "**1. Check if there are any NaN values in the End Date Column.**"
   ]
  },
  {
   "cell_type": "code",
   "execution_count": 10,
   "id": "ed204aac",
   "metadata": {},
   "outputs": [
    {
     "data": {
      "text/plain": [
       "0       False\n",
       "1       False\n",
       "2       False\n",
       "3       False\n",
       "4       False\n",
       "        ...  \n",
       "1151    False\n",
       "1152    False\n",
       "1153    False\n",
       "1154    False\n",
       "1155     True\n",
       "Name: END_DATE, Length: 1156, dtype: bool"
      ]
     },
     "execution_count": 10,
     "metadata": {},
     "output_type": "execute_result"
    }
   ],
   "source": [
    "data_df['END_DATE'].isnull()"
   ]
  },
  {
   "cell_type": "markdown",
   "id": "9b610a56",
   "metadata": {},
   "source": [
    "**2. How many NaN values are present in the column?**"
   ]
  },
  {
   "cell_type": "code",
   "execution_count": 11,
   "id": "5d0139a2",
   "metadata": {},
   "outputs": [
    {
     "data": {
      "text/plain": [
       "1"
      ]
     },
     "execution_count": 11,
     "metadata": {},
     "output_type": "execute_result"
    }
   ],
   "source": [
    "data_df['END_DATE'].isnull().sum()"
   ]
  },
  {
   "cell_type": "markdown",
   "id": "7a005e9b",
   "metadata": {},
   "source": [
    "**3. Display the row or rows with the NaN values for the End Date Column.**"
   ]
  },
  {
   "cell_type": "code",
   "execution_count": 12,
   "id": "a96460b4",
   "metadata": {},
   "outputs": [
    {
     "data": {
      "text/html": [
       "<div>\n",
       "<style scoped>\n",
       "    .dataframe tbody tr th:only-of-type {\n",
       "        vertical-align: middle;\n",
       "    }\n",
       "\n",
       "    .dataframe tbody tr th {\n",
       "        vertical-align: top;\n",
       "    }\n",
       "\n",
       "    .dataframe thead th {\n",
       "        text-align: right;\n",
       "    }\n",
       "</style>\n",
       "<table border=\"1\" class=\"dataframe\">\n",
       "  <thead>\n",
       "    <tr style=\"text-align: right;\">\n",
       "      <th></th>\n",
       "      <th>START_DATE</th>\n",
       "      <th>END_DATE</th>\n",
       "      <th>CATEGORY</th>\n",
       "      <th>START</th>\n",
       "      <th>STOP</th>\n",
       "      <th>MILES</th>\n",
       "      <th>PURPOSE</th>\n",
       "      <th>start time</th>\n",
       "    </tr>\n",
       "  </thead>\n",
       "  <tbody>\n",
       "    <tr>\n",
       "      <th>1155</th>\n",
       "      <td>NaT</td>\n",
       "      <td>NaN</td>\n",
       "      <td>NaN</td>\n",
       "      <td>NaN</td>\n",
       "      <td>NaN</td>\n",
       "      <td>12204.7</td>\n",
       "      <td>NaN</td>\n",
       "      <td>NaN</td>\n",
       "    </tr>\n",
       "  </tbody>\n",
       "</table>\n",
       "</div>"
      ],
      "text/plain": [
       "     START_DATE END_DATE CATEGORY START STOP    MILES PURPOSE start time\n",
       "1155        NaT      NaN      NaN   NaN  NaN  12204.7     NaN        NaN"
      ]
     },
     "execution_count": 12,
     "metadata": {},
     "output_type": "execute_result"
    }
   ],
   "source": [
    "data_df[data_df['END_DATE'].isnull()]"
   ]
  },
  {
   "cell_type": "markdown",
   "id": "dc988a74",
   "metadata": {},
   "source": [
    "**4. Remove that row from the data_df dataframe.**"
   ]
  },
  {
   "cell_type": "code",
   "execution_count": 13,
   "id": "f3f51902",
   "metadata": {},
   "outputs": [
    {
     "data": {
      "text/html": [
       "<div>\n",
       "<style scoped>\n",
       "    .dataframe tbody tr th:only-of-type {\n",
       "        vertical-align: middle;\n",
       "    }\n",
       "\n",
       "    .dataframe tbody tr th {\n",
       "        vertical-align: top;\n",
       "    }\n",
       "\n",
       "    .dataframe thead th {\n",
       "        text-align: right;\n",
       "    }\n",
       "</style>\n",
       "<table border=\"1\" class=\"dataframe\">\n",
       "  <thead>\n",
       "    <tr style=\"text-align: right;\">\n",
       "      <th></th>\n",
       "      <th>START_DATE</th>\n",
       "      <th>END_DATE</th>\n",
       "      <th>CATEGORY</th>\n",
       "      <th>START</th>\n",
       "      <th>STOP</th>\n",
       "      <th>MILES</th>\n",
       "      <th>PURPOSE</th>\n",
       "      <th>start time</th>\n",
       "    </tr>\n",
       "  </thead>\n",
       "  <tbody>\n",
       "    <tr>\n",
       "      <th>0</th>\n",
       "      <td>2016-01-01 21:11:00</td>\n",
       "      <td>01-01-2016 21:17</td>\n",
       "      <td>Business</td>\n",
       "      <td>Fort Pierce</td>\n",
       "      <td>Fort Pierce</td>\n",
       "      <td>5.1</td>\n",
       "      <td>Meal/Entertain</td>\n",
       "      <td>21:11</td>\n",
       "    </tr>\n",
       "    <tr>\n",
       "      <th>1</th>\n",
       "      <td>2016-01-02 01:25:00</td>\n",
       "      <td>01-02-2016 01:37</td>\n",
       "      <td>Business</td>\n",
       "      <td>Fort Pierce</td>\n",
       "      <td>Fort Pierce</td>\n",
       "      <td>5.0</td>\n",
       "      <td>NaN</td>\n",
       "      <td>01:25</td>\n",
       "    </tr>\n",
       "    <tr>\n",
       "      <th>2</th>\n",
       "      <td>2016-01-02 20:25:00</td>\n",
       "      <td>01-02-2016 20:38</td>\n",
       "      <td>Business</td>\n",
       "      <td>Fort Pierce</td>\n",
       "      <td>Fort Pierce</td>\n",
       "      <td>4.8</td>\n",
       "      <td>Errand/Supplies</td>\n",
       "      <td>20:25</td>\n",
       "    </tr>\n",
       "    <tr>\n",
       "      <th>3</th>\n",
       "      <td>2016-01-05 17:31:00</td>\n",
       "      <td>01-05-2016 17:45</td>\n",
       "      <td>Business</td>\n",
       "      <td>Fort Pierce</td>\n",
       "      <td>Fort Pierce</td>\n",
       "      <td>4.7</td>\n",
       "      <td>Meeting</td>\n",
       "      <td>17:31</td>\n",
       "    </tr>\n",
       "    <tr>\n",
       "      <th>4</th>\n",
       "      <td>2016-01-06 14:42:00</td>\n",
       "      <td>01-06-2016 15:49</td>\n",
       "      <td>Business</td>\n",
       "      <td>Fort Pierce</td>\n",
       "      <td>West Palm Beach</td>\n",
       "      <td>63.7</td>\n",
       "      <td>Customer Visit</td>\n",
       "      <td>14:42</td>\n",
       "    </tr>\n",
       "    <tr>\n",
       "      <th>...</th>\n",
       "      <td>...</td>\n",
       "      <td>...</td>\n",
       "      <td>...</td>\n",
       "      <td>...</td>\n",
       "      <td>...</td>\n",
       "      <td>...</td>\n",
       "      <td>...</td>\n",
       "      <td>...</td>\n",
       "    </tr>\n",
       "    <tr>\n",
       "      <th>1150</th>\n",
       "      <td>2016-12-31 01:07:00</td>\n",
       "      <td>12/31/2016 1:14</td>\n",
       "      <td>Business</td>\n",
       "      <td>Kar?chi</td>\n",
       "      <td>Kar?chi</td>\n",
       "      <td>0.7</td>\n",
       "      <td>Meeting</td>\n",
       "      <td>1:07</td>\n",
       "    </tr>\n",
       "    <tr>\n",
       "      <th>1151</th>\n",
       "      <td>2016-12-31 13:24:00</td>\n",
       "      <td>12/31/2016 13:42</td>\n",
       "      <td>Business</td>\n",
       "      <td>Kar?chi</td>\n",
       "      <td>Unknown Location</td>\n",
       "      <td>3.9</td>\n",
       "      <td>Temporary Site</td>\n",
       "      <td>13:24</td>\n",
       "    </tr>\n",
       "    <tr>\n",
       "      <th>1152</th>\n",
       "      <td>2016-12-31 15:03:00</td>\n",
       "      <td>12/31/2016 15:38</td>\n",
       "      <td>Business</td>\n",
       "      <td>Unknown Location</td>\n",
       "      <td>Unknown Location</td>\n",
       "      <td>16.2</td>\n",
       "      <td>Meeting</td>\n",
       "      <td>15:03</td>\n",
       "    </tr>\n",
       "    <tr>\n",
       "      <th>1153</th>\n",
       "      <td>2016-12-31 21:32:00</td>\n",
       "      <td>12/31/2016 21:50</td>\n",
       "      <td>Business</td>\n",
       "      <td>Katunayake</td>\n",
       "      <td>Gampaha</td>\n",
       "      <td>6.4</td>\n",
       "      <td>Temporary Site</td>\n",
       "      <td>21:32</td>\n",
       "    </tr>\n",
       "    <tr>\n",
       "      <th>1154</th>\n",
       "      <td>2016-12-31 22:08:00</td>\n",
       "      <td>12/31/2016 23:51</td>\n",
       "      <td>Business</td>\n",
       "      <td>Gampaha</td>\n",
       "      <td>Ilukwatta</td>\n",
       "      <td>48.2</td>\n",
       "      <td>Temporary Site</td>\n",
       "      <td>22:08</td>\n",
       "    </tr>\n",
       "  </tbody>\n",
       "</table>\n",
       "<p>1155 rows × 8 columns</p>\n",
       "</div>"
      ],
      "text/plain": [
       "              START_DATE          END_DATE  CATEGORY             START  \\\n",
       "0    2016-01-01 21:11:00  01-01-2016 21:17  Business       Fort Pierce   \n",
       "1    2016-01-02 01:25:00  01-02-2016 01:37  Business       Fort Pierce   \n",
       "2    2016-01-02 20:25:00  01-02-2016 20:38  Business       Fort Pierce   \n",
       "3    2016-01-05 17:31:00  01-05-2016 17:45  Business       Fort Pierce   \n",
       "4    2016-01-06 14:42:00  01-06-2016 15:49  Business       Fort Pierce   \n",
       "...                  ...               ...       ...               ...   \n",
       "1150 2016-12-31 01:07:00   12/31/2016 1:14  Business           Kar?chi   \n",
       "1151 2016-12-31 13:24:00  12/31/2016 13:42  Business           Kar?chi   \n",
       "1152 2016-12-31 15:03:00  12/31/2016 15:38  Business  Unknown Location   \n",
       "1153 2016-12-31 21:32:00  12/31/2016 21:50  Business        Katunayake   \n",
       "1154 2016-12-31 22:08:00  12/31/2016 23:51  Business           Gampaha   \n",
       "\n",
       "                  STOP  MILES          PURPOSE start time  \n",
       "0          Fort Pierce    5.1   Meal/Entertain      21:11  \n",
       "1          Fort Pierce    5.0              NaN      01:25  \n",
       "2          Fort Pierce    4.8  Errand/Supplies      20:25  \n",
       "3          Fort Pierce    4.7          Meeting      17:31  \n",
       "4      West Palm Beach   63.7   Customer Visit      14:42  \n",
       "...                ...    ...              ...        ...  \n",
       "1150           Kar?chi    0.7          Meeting       1:07  \n",
       "1151  Unknown Location    3.9   Temporary Site      13:24  \n",
       "1152  Unknown Location   16.2          Meeting      15:03  \n",
       "1153           Gampaha    6.4   Temporary Site      21:32  \n",
       "1154         Ilukwatta   48.2   Temporary Site      22:08  \n",
       "\n",
       "[1155 rows x 8 columns]"
      ]
     },
     "execution_count": 13,
     "metadata": {},
     "output_type": "execute_result"
    }
   ],
   "source": [
    "data_df = data_df[data_df['END_DATE'].isnull() == False]\n",
    "data_df"
   ]
  },
  {
   "cell_type": "markdown",
   "id": "f4ddeabe",
   "metadata": {},
   "source": [
    "**5. Extract the time part of the end date string, and save it to a new column named end\n",
    "time.**"
   ]
  },
  {
   "cell_type": "code",
   "execution_count": 14,
   "id": "2fba6a5a",
   "metadata": {},
   "outputs": [
    {
     "data": {
      "text/plain": [
       "0       21:17\n",
       "1       01:37\n",
       "2       20:38\n",
       "3       17:45\n",
       "4       15:49\n",
       "        ...  \n",
       "1150     1:14\n",
       "1151    13:42\n",
       "1152    15:38\n",
       "1153    21:50\n",
       "1154    23:51\n",
       "Name: end time, Length: 1155, dtype: object"
      ]
     },
     "execution_count": 14,
     "metadata": {},
     "output_type": "execute_result"
    }
   ],
   "source": [
    "data_df['end time'] = data_df['END_DATE'].iloc[:1155].apply(lambda input_str: format_time(input_str))\n",
    "data_df['end time']"
   ]
  },
  {
   "cell_type": "markdown",
   "id": "490faa32",
   "metadata": {},
   "source": [
    "**6. Convert the column End Date to an appropriate datatype.**"
   ]
  },
  {
   "cell_type": "code",
   "execution_count": 15,
   "id": "e24868cc",
   "metadata": {},
   "outputs": [
    {
     "data": {
      "text/plain": [
       "0      2016-01-01 21:17:00\n",
       "1      2016-01-02 01:37:00\n",
       "2      2016-01-02 20:38:00\n",
       "3      2016-01-05 17:45:00\n",
       "4      2016-01-06 15:49:00\n",
       "               ...        \n",
       "1150   2016-12-31 01:14:00\n",
       "1151   2016-12-31 13:42:00\n",
       "1152   2016-12-31 15:38:00\n",
       "1153   2016-12-31 21:50:00\n",
       "1154   2016-12-31 23:51:00\n",
       "Name: END_DATE, Length: 1155, dtype: datetime64[ns]"
      ]
     },
     "execution_count": 15,
     "metadata": {},
     "output_type": "execute_result"
    }
   ],
   "source": [
    "data_df['END_DATE'] = data_df['END_DATE'].iloc[:1155].apply(lambda input_str: convert_startdate(input_str))\n",
    "data_df['END_DATE']"
   ]
  },
  {
   "cell_type": "markdown",
   "id": "f0ef9d83",
   "metadata": {},
   "source": [
    "**7. Confirm the changes to datatype by using the function you used in Q2.1**"
   ]
  },
  {
   "cell_type": "code",
   "execution_count": 16,
   "id": "2b1927ad",
   "metadata": {},
   "outputs": [
    {
     "name": "stdout",
     "output_type": "stream",
     "text": [
      "<class 'pandas.core.frame.DataFrame'>\n",
      "Index: 1155 entries, 0 to 1154\n",
      "Data columns (total 9 columns):\n",
      " #   Column      Non-Null Count  Dtype         \n",
      "---  ------      --------------  -----         \n",
      " 0   START_DATE  1155 non-null   datetime64[ns]\n",
      " 1   END_DATE    1155 non-null   datetime64[ns]\n",
      " 2   CATEGORY    1155 non-null   object        \n",
      " 3   START       1155 non-null   object        \n",
      " 4   STOP        1155 non-null   object        \n",
      " 5   MILES       1155 non-null   float64       \n",
      " 6   PURPOSE     653 non-null    object        \n",
      " 7   start time  1155 non-null   object        \n",
      " 8   end time    1155 non-null   object        \n",
      "dtypes: datetime64[ns](2), float64(1), object(6)\n",
      "memory usage: 90.2+ KB\n"
     ]
    }
   ],
   "source": [
    "data_df.info()"
   ]
  },
  {
   "cell_type": "markdown",
   "id": "2c669289",
   "metadata": {},
   "source": [
    "## 3.3: Category"
   ]
  },
  {
   "cell_type": "markdown",
   "id": "4a7aaac6",
   "metadata": {},
   "source": [
    "**1. Check if there are any null values in the column Category**"
   ]
  },
  {
   "cell_type": "code",
   "execution_count": 17,
   "id": "24c4d5e2",
   "metadata": {},
   "outputs": [
    {
     "data": {
      "text/plain": [
       "0       False\n",
       "1       False\n",
       "2       False\n",
       "3       False\n",
       "4       False\n",
       "        ...  \n",
       "1150    False\n",
       "1151    False\n",
       "1152    False\n",
       "1153    False\n",
       "1154    False\n",
       "Name: CATEGORY, Length: 1155, dtype: bool"
      ]
     },
     "execution_count": 17,
     "metadata": {},
     "output_type": "execute_result"
    }
   ],
   "source": [
    "data_df['CATEGORY'].isnull()"
   ]
  },
  {
   "cell_type": "markdown",
   "id": "bbe1d293",
   "metadata": {},
   "source": [
    "**2. Print the labels in the column Category.**"
   ]
  },
  {
   "cell_type": "code",
   "execution_count": 18,
   "id": "deb63e79",
   "metadata": {},
   "outputs": [
    {
     "name": "stdout",
     "output_type": "stream",
     "text": [
      "['Business' 'Personal']\n"
     ]
    }
   ],
   "source": [
    "print(data_df['CATEGORY'].unique())"
   ]
  },
  {
   "cell_type": "markdown",
   "id": "8971db6a",
   "metadata": {},
   "source": [
    "**3. Print the number of data points for each label in the column Category.**"
   ]
  },
  {
   "cell_type": "code",
   "execution_count": 19,
   "id": "31d1c5a5",
   "metadata": {},
   "outputs": [
    {
     "data": {
      "text/plain": [
       "CATEGORY\n",
       "Business    1078\n",
       "Personal      77\n",
       "Name: count, dtype: int64"
      ]
     },
     "execution_count": 19,
     "metadata": {},
     "output_type": "execute_result"
    }
   ],
   "source": [
    "data_df['CATEGORY'].value_counts()"
   ]
  },
  {
   "cell_type": "markdown",
   "id": "a7f99506",
   "metadata": {},
   "source": [
    "## 3.4: Start"
   ]
  },
  {
   "cell_type": "markdown",
   "id": "14d87577",
   "metadata": {},
   "source": [
    "**1. Check if there are any null values in the column Start**"
   ]
  },
  {
   "cell_type": "code",
   "execution_count": 20,
   "id": "aebf4b88",
   "metadata": {},
   "outputs": [
    {
     "data": {
      "text/plain": [
       "0       False\n",
       "1       False\n",
       "2       False\n",
       "3       False\n",
       "4       False\n",
       "        ...  \n",
       "1150    False\n",
       "1151    False\n",
       "1152    False\n",
       "1153    False\n",
       "1154    False\n",
       "Name: START, Length: 1155, dtype: bool"
      ]
     },
     "execution_count": 20,
     "metadata": {},
     "output_type": "execute_result"
    }
   ],
   "source": [
    "data_df['START'].isnull()"
   ]
  },
  {
   "cell_type": "markdown",
   "id": "ce5be526",
   "metadata": {},
   "source": [
    "**2. What are the different start locations for the rides in the dataset?**"
   ]
  },
  {
   "cell_type": "code",
   "execution_count": 21,
   "id": "7d8927a7",
   "metadata": {},
   "outputs": [
    {
     "data": {
      "text/plain": [
       "array(['Fort Pierce', 'West Palm Beach', 'Cary', 'Jamaica', 'New York',\n",
       "       'Elmhurst', 'Midtown', 'East Harlem', 'Flatiron District',\n",
       "       'Midtown East', 'Hudson Square', 'Lower Manhattan',\n",
       "       \"Hell's Kitchen\", 'Downtown', 'Gulfton', 'Houston', 'Eagan Park',\n",
       "       'Morrisville', 'Durham', 'Farmington Woods', 'Whitebridge',\n",
       "       'Lake Wellingborough', 'Fayetteville Street', 'Raleigh',\n",
       "       'Hazelwood', 'Fairmont', 'Meredith Townes', 'Apex', 'Chapel Hill',\n",
       "       'Northwoods', 'Edgehill Farms', 'Tanglewood', 'Preston',\n",
       "       'Eastgate', 'East Elmhurst', 'Jackson Heights', 'Long Island City',\n",
       "       'Katunayaka', 'Unknown Location', 'Colombo', 'Nugegoda',\n",
       "       'Islamabad', 'R?walpindi', 'Noorpur Shahan', 'Heritage Pines',\n",
       "       'Westpark Place', 'Waverly Place', 'Wayne Ridge', 'Weston',\n",
       "       'East Austin', 'West University', 'South Congress', 'The Drag',\n",
       "       'Congress Ave District', 'Red River District', 'Georgian Acres',\n",
       "       'North Austin', 'Coxville', 'Convention Center District', 'Austin',\n",
       "       'Katy', 'Sharpstown', 'Sugar Land', 'Galveston', 'Port Bolivar',\n",
       "       'Washington Avenue', 'Briar Meadow', 'Latta', 'Jacksonville',\n",
       "       'Couples Glen', 'Kissimmee', 'Lake Reams', 'Orlando',\n",
       "       'Sand Lake Commons', 'Sky Lake', 'Daytona Beach', 'Ridgeland',\n",
       "       'Florence', 'Meredith', 'Holly Springs', 'Chessington', 'Burtrose',\n",
       "       'Parkway', 'Mcvan', 'Capitol One', 'University District',\n",
       "       'Seattle', 'Redmond', 'Bellevue', 'San Francisco', 'Palo Alto',\n",
       "       'Sunnyvale', 'Newark', 'Menlo Park', 'Old City', 'Savon Height',\n",
       "       'Kilarney Woods', 'Townes at Everett Crossing', 'Huntington Woods',\n",
       "       'Seaport', 'Medical Centre', 'Rose Hill', 'Soho', 'Tribeca',\n",
       "       'Financial District', 'Oakland', 'Emeryville', 'Berkeley',\n",
       "       'Kenner', 'CBD', 'Lower Garden District', 'Lakeview', 'Storyville',\n",
       "       'New Orleans', 'Metairie', 'Chalmette', 'Arabi',\n",
       "       'Pontchartrain Shores', 'Marigny', 'Covington', 'Mandeville',\n",
       "       'Jamestown Court', 'Summerwinds', 'Parkwood',\n",
       "       'Pontchartrain Beach', 'St Thomas', 'Banner Elk', 'Elk Park',\n",
       "       'Newland', 'Boone', 'Stonewater', 'Lexington Park at Amberly',\n",
       "       'Arlington Park at Amberly', 'Arlington', 'Kalorama Triangle',\n",
       "       'K Street', 'West End', 'Connecticut Avenue', 'Columbia Heights',\n",
       "       'Washington', 'Wake Forest', 'Lahore', 'Karachi', 'SOMISSPO',\n",
       "       'West Berkeley', 'North Berkeley Hills', 'San Jose', 'Eagle Rock',\n",
       "       'Winston Salem', 'Asheville', 'Topton', 'Hayesville',\n",
       "       'Bryson City', 'Almond', 'Mebane', 'Agnew', 'Cory', 'Renaissance',\n",
       "       'Santa Clara', 'NOMA', 'Sunnyside', 'Ingleside', 'Central',\n",
       "       'Tenderloin', 'College Avenue', 'South', 'Southside',\n",
       "       'South Berkeley', 'Mountain View', 'El Cerrito', 'Krendle Woods',\n",
       "       'Wake Co.', 'Fuquay-Varina', 'Rawalpindi', 'Kar?chi', 'Katunayake',\n",
       "       'Gampaha'], dtype=object)"
      ]
     },
     "execution_count": 21,
     "metadata": {},
     "output_type": "execute_result"
    }
   ],
   "source": [
    "data_df['START'].unique()"
   ]
  },
  {
   "cell_type": "markdown",
   "id": "5a085451",
   "metadata": {},
   "source": [
    "**3. Create a new dataframe with the name of the start location and a number of rides with\n",
    "that start location.**"
   ]
  },
  {
   "cell_type": "code",
   "execution_count": 22,
   "id": "4cd78f66",
   "metadata": {},
   "outputs": [
    {
     "data": {
      "text/html": [
       "<div>\n",
       "<style scoped>\n",
       "    .dataframe tbody tr th:only-of-type {\n",
       "        vertical-align: middle;\n",
       "    }\n",
       "\n",
       "    .dataframe tbody tr th {\n",
       "        vertical-align: top;\n",
       "    }\n",
       "\n",
       "    .dataframe thead th {\n",
       "        text-align: right;\n",
       "    }\n",
       "</style>\n",
       "<table border=\"1\" class=\"dataframe\">\n",
       "  <thead>\n",
       "    <tr style=\"text-align: right;\">\n",
       "      <th></th>\n",
       "      <th>count</th>\n",
       "    </tr>\n",
       "    <tr>\n",
       "      <th>START</th>\n",
       "      <th></th>\n",
       "    </tr>\n",
       "  </thead>\n",
       "  <tbody>\n",
       "    <tr>\n",
       "      <th>Cary</th>\n",
       "      <td>201</td>\n",
       "    </tr>\n",
       "    <tr>\n",
       "      <th>Unknown Location</th>\n",
       "      <td>148</td>\n",
       "    </tr>\n",
       "    <tr>\n",
       "      <th>Morrisville</th>\n",
       "      <td>85</td>\n",
       "    </tr>\n",
       "    <tr>\n",
       "      <th>Whitebridge</th>\n",
       "      <td>68</td>\n",
       "    </tr>\n",
       "    <tr>\n",
       "      <th>Islamabad</th>\n",
       "      <td>57</td>\n",
       "    </tr>\n",
       "    <tr>\n",
       "      <th>...</th>\n",
       "      <td>...</td>\n",
       "    </tr>\n",
       "    <tr>\n",
       "      <th>Florence</th>\n",
       "      <td>1</td>\n",
       "    </tr>\n",
       "    <tr>\n",
       "      <th>Ridgeland</th>\n",
       "      <td>1</td>\n",
       "    </tr>\n",
       "    <tr>\n",
       "      <th>Daytona Beach</th>\n",
       "      <td>1</td>\n",
       "    </tr>\n",
       "    <tr>\n",
       "      <th>Sky Lake</th>\n",
       "      <td>1</td>\n",
       "    </tr>\n",
       "    <tr>\n",
       "      <th>Gampaha</th>\n",
       "      <td>1</td>\n",
       "    </tr>\n",
       "  </tbody>\n",
       "</table>\n",
       "<p>177 rows × 1 columns</p>\n",
       "</div>"
      ],
      "text/plain": [
       "                  count\n",
       "START                  \n",
       "Cary                201\n",
       "Unknown Location    148\n",
       "Morrisville          85\n",
       "Whitebridge          68\n",
       "Islamabad            57\n",
       "...                 ...\n",
       "Florence              1\n",
       "Ridgeland             1\n",
       "Daytona Beach         1\n",
       "Sky Lake              1\n",
       "Gampaha               1\n",
       "\n",
       "[177 rows x 1 columns]"
      ]
     },
     "execution_count": 22,
     "metadata": {},
     "output_type": "execute_result"
    }
   ],
   "source": [
    "start_location_df = data_df['START'].value_counts().to_frame()\n",
    "start_location_df"
   ]
  },
  {
   "cell_type": "markdown",
   "id": "da937dc7",
   "metadata": {},
   "source": [
    "**4. Which is the most popular ride start location?**"
   ]
  },
  {
   "cell_type": "code",
   "execution_count": 23,
   "id": "34462237",
   "metadata": {},
   "outputs": [
    {
     "data": {
      "text/plain": [
       "count    Cary\n",
       "dtype: object"
      ]
     },
     "execution_count": 23,
     "metadata": {},
     "output_type": "execute_result"
    }
   ],
   "source": [
    "start_location_df.idxmax()"
   ]
  },
  {
   "cell_type": "markdown",
   "id": "6cf784c5",
   "metadata": {},
   "source": [
    "**5. Amoung all the start locations you listed, you will notice that one location is not the\n",
    "name of an actual location. What label was used instead of an actual location here?**"
   ]
  },
  {
   "cell_type": "code",
   "execution_count": 24,
   "id": "1fdef511",
   "metadata": {},
   "outputs": [
    {
     "data": {
      "text/plain": [
       "Index(['Unknown Location'], dtype='object', name='START')"
      ]
     },
     "execution_count": 24,
     "metadata": {},
     "output_type": "execute_result"
    }
   ],
   "source": [
    "start_location_df.index[start_location_df['count'] == 148]"
   ]
  },
  {
   "cell_type": "markdown",
   "id": "a1aa1825",
   "metadata": {},
   "source": [
    "**6. How many rows have that label?**"
   ]
  },
  {
   "cell_type": "code",
   "execution_count": 25,
   "id": "f0cd5cce",
   "metadata": {},
   "outputs": [
    {
     "data": {
      "text/plain": [
       "148"
      ]
     },
     "execution_count": 25,
     "metadata": {},
     "output_type": "execute_result"
    }
   ],
   "source": [
    "len(data_df[data_df['START'] == 'Unknown Location'])"
   ]
  },
  {
   "cell_type": "markdown",
   "id": "a6c2c172",
   "metadata": {},
   "source": [
    "**7. Display 10 sample rows with that label as the start location.**"
   ]
  },
  {
   "cell_type": "code",
   "execution_count": 26,
   "id": "f40a4a36",
   "metadata": {},
   "outputs": [
    {
     "data": {
      "text/html": [
       "<div>\n",
       "<style scoped>\n",
       "    .dataframe tbody tr th:only-of-type {\n",
       "        vertical-align: middle;\n",
       "    }\n",
       "\n",
       "    .dataframe tbody tr th {\n",
       "        vertical-align: top;\n",
       "    }\n",
       "\n",
       "    .dataframe thead th {\n",
       "        text-align: right;\n",
       "    }\n",
       "</style>\n",
       "<table border=\"1\" class=\"dataframe\">\n",
       "  <thead>\n",
       "    <tr style=\"text-align: right;\">\n",
       "      <th></th>\n",
       "      <th>START_DATE</th>\n",
       "      <th>END_DATE</th>\n",
       "      <th>CATEGORY</th>\n",
       "      <th>START</th>\n",
       "      <th>STOP</th>\n",
       "      <th>MILES</th>\n",
       "      <th>PURPOSE</th>\n",
       "      <th>start time</th>\n",
       "      <th>end time</th>\n",
       "    </tr>\n",
       "  </thead>\n",
       "  <tbody>\n",
       "    <tr>\n",
       "      <th>810</th>\n",
       "      <td>2016-10-14 08:50:00</td>\n",
       "      <td>2016-10-14 09:44:00</td>\n",
       "      <td>Business</td>\n",
       "      <td>Unknown Location</td>\n",
       "      <td>R?walpindi</td>\n",
       "      <td>12.7</td>\n",
       "      <td>NaN</td>\n",
       "      <td>8:50</td>\n",
       "      <td>9:44</td>\n",
       "    </tr>\n",
       "    <tr>\n",
       "      <th>132</th>\n",
       "      <td>2016-02-19 16:26:00</td>\n",
       "      <td>2016-02-19 16:45:00</td>\n",
       "      <td>Business</td>\n",
       "      <td>Unknown Location</td>\n",
       "      <td>Islamabad</td>\n",
       "      <td>3.5</td>\n",
       "      <td>NaN</td>\n",
       "      <td>16:26</td>\n",
       "      <td>16:45</td>\n",
       "    </tr>\n",
       "    <tr>\n",
       "      <th>680</th>\n",
       "      <td>2016-08-19 12:07:00</td>\n",
       "      <td>2016-08-19 12:24:00</td>\n",
       "      <td>Business</td>\n",
       "      <td>Unknown Location</td>\n",
       "      <td>Islamabad</td>\n",
       "      <td>5.7</td>\n",
       "      <td>NaN</td>\n",
       "      <td>12:07</td>\n",
       "      <td>12:24</td>\n",
       "    </tr>\n",
       "    <tr>\n",
       "      <th>153</th>\n",
       "      <td>2016-02-21 16:04:00</td>\n",
       "      <td>2016-02-21 16:32:00</td>\n",
       "      <td>Business</td>\n",
       "      <td>Unknown Location</td>\n",
       "      <td>Unknown Location</td>\n",
       "      <td>9.7</td>\n",
       "      <td>NaN</td>\n",
       "      <td>16:04</td>\n",
       "      <td>16:32</td>\n",
       "    </tr>\n",
       "    <tr>\n",
       "      <th>719</th>\n",
       "      <td>2016-08-26 16:55:00</td>\n",
       "      <td>2016-08-26 17:12:00</td>\n",
       "      <td>Business</td>\n",
       "      <td>Unknown Location</td>\n",
       "      <td>Lahore</td>\n",
       "      <td>2.9</td>\n",
       "      <td>NaN</td>\n",
       "      <td>16:55</td>\n",
       "      <td>17:12</td>\n",
       "    </tr>\n",
       "    <tr>\n",
       "      <th>812</th>\n",
       "      <td>2016-10-14 15:56:00</td>\n",
       "      <td>2016-10-14 16:20:00</td>\n",
       "      <td>Business</td>\n",
       "      <td>Unknown Location</td>\n",
       "      <td>Unknown Location</td>\n",
       "      <td>3.8</td>\n",
       "      <td>NaN</td>\n",
       "      <td>15:56</td>\n",
       "      <td>16:20</td>\n",
       "    </tr>\n",
       "    <tr>\n",
       "      <th>736</th>\n",
       "      <td>2016-08-29 15:49:00</td>\n",
       "      <td>2016-08-29 15:59:00</td>\n",
       "      <td>Business</td>\n",
       "      <td>Unknown Location</td>\n",
       "      <td>Islamabad</td>\n",
       "      <td>2.8</td>\n",
       "      <td>NaN</td>\n",
       "      <td>15:49</td>\n",
       "      <td>15:59</td>\n",
       "    </tr>\n",
       "    <tr>\n",
       "      <th>762</th>\n",
       "      <td>2016-09-18 18:07:00</td>\n",
       "      <td>2016-09-18 18:11:00</td>\n",
       "      <td>Business</td>\n",
       "      <td>Unknown Location</td>\n",
       "      <td>Unknown Location</td>\n",
       "      <td>9.4</td>\n",
       "      <td>NaN</td>\n",
       "      <td>18:07</td>\n",
       "      <td>18:11</td>\n",
       "    </tr>\n",
       "    <tr>\n",
       "      <th>657</th>\n",
       "      <td>2016-08-15 15:20:00</td>\n",
       "      <td>2016-08-15 15:47:00</td>\n",
       "      <td>Business</td>\n",
       "      <td>Unknown Location</td>\n",
       "      <td>Unknown Location</td>\n",
       "      <td>14.1</td>\n",
       "      <td>NaN</td>\n",
       "      <td>15:20</td>\n",
       "      <td>15:47</td>\n",
       "    </tr>\n",
       "    <tr>\n",
       "      <th>1082</th>\n",
       "      <td>2016-12-21 12:51:00</td>\n",
       "      <td>2016-12-21 13:33:00</td>\n",
       "      <td>Business</td>\n",
       "      <td>Unknown Location</td>\n",
       "      <td>Unknown Location</td>\n",
       "      <td>16.2</td>\n",
       "      <td>Meeting</td>\n",
       "      <td>12:51</td>\n",
       "      <td>13:33</td>\n",
       "    </tr>\n",
       "  </tbody>\n",
       "</table>\n",
       "</div>"
      ],
      "text/plain": [
       "              START_DATE            END_DATE  CATEGORY             START  \\\n",
       "810  2016-10-14 08:50:00 2016-10-14 09:44:00  Business  Unknown Location   \n",
       "132  2016-02-19 16:26:00 2016-02-19 16:45:00  Business  Unknown Location   \n",
       "680  2016-08-19 12:07:00 2016-08-19 12:24:00  Business  Unknown Location   \n",
       "153  2016-02-21 16:04:00 2016-02-21 16:32:00  Business  Unknown Location   \n",
       "719  2016-08-26 16:55:00 2016-08-26 17:12:00  Business  Unknown Location   \n",
       "812  2016-10-14 15:56:00 2016-10-14 16:20:00  Business  Unknown Location   \n",
       "736  2016-08-29 15:49:00 2016-08-29 15:59:00  Business  Unknown Location   \n",
       "762  2016-09-18 18:07:00 2016-09-18 18:11:00  Business  Unknown Location   \n",
       "657  2016-08-15 15:20:00 2016-08-15 15:47:00  Business  Unknown Location   \n",
       "1082 2016-12-21 12:51:00 2016-12-21 13:33:00  Business  Unknown Location   \n",
       "\n",
       "                  STOP  MILES  PURPOSE start time end time  \n",
       "810         R?walpindi   12.7      NaN       8:50     9:44  \n",
       "132          Islamabad    3.5      NaN      16:26    16:45  \n",
       "680          Islamabad    5.7      NaN      12:07    12:24  \n",
       "153   Unknown Location    9.7      NaN      16:04    16:32  \n",
       "719             Lahore    2.9      NaN      16:55    17:12  \n",
       "812   Unknown Location    3.8      NaN      15:56    16:20  \n",
       "736          Islamabad    2.8      NaN      15:49    15:59  \n",
       "762   Unknown Location    9.4      NaN      18:07    18:11  \n",
       "657   Unknown Location   14.1      NaN      15:20    15:47  \n",
       "1082  Unknown Location   16.2  Meeting      12:51    13:33  "
      ]
     },
     "execution_count": 26,
     "metadata": {},
     "output_type": "execute_result"
    }
   ],
   "source": [
    "data_df[data_df['START'] == 'Unknown Location'].sample(10)"
   ]
  },
  {
   "cell_type": "markdown",
   "id": "a780c3a8",
   "metadata": {},
   "source": [
    "## 3.5 Stop"
   ]
  },
  {
   "cell_type": "markdown",
   "id": "0606a8a2",
   "metadata": {},
   "source": [
    "**1. Check if there are any null values in the column Stop**"
   ]
  },
  {
   "cell_type": "code",
   "execution_count": 27,
   "id": "493bde6e",
   "metadata": {},
   "outputs": [
    {
     "data": {
      "text/plain": [
       "0       False\n",
       "1       False\n",
       "2       False\n",
       "3       False\n",
       "4       False\n",
       "        ...  \n",
       "1150    False\n",
       "1151    False\n",
       "1152    False\n",
       "1153    False\n",
       "1154    False\n",
       "Name: STOP, Length: 1155, dtype: bool"
      ]
     },
     "execution_count": 27,
     "metadata": {},
     "output_type": "execute_result"
    }
   ],
   "source": [
    "data_df['STOP'].isnull()"
   ]
  },
  {
   "cell_type": "markdown",
   "id": "813a4bb4",
   "metadata": {},
   "source": [
    "**2. What are the different end locations for the rides in the dataset?**"
   ]
  },
  {
   "cell_type": "code",
   "execution_count": 28,
   "id": "8faa3a59",
   "metadata": {},
   "outputs": [
    {
     "data": {
      "text/plain": [
       "array(['Fort Pierce', 'West Palm Beach', 'Palm Beach', 'Cary',\n",
       "       'Morrisville', 'New York', 'Queens', 'East Harlem', 'NoMad',\n",
       "       'Midtown', 'Midtown East', 'Hudson Square', 'Lower Manhattan',\n",
       "       \"Hell's Kitchen\", 'Queens County', 'Gulfton', 'Downtown',\n",
       "       'Houston', 'Jamestown Court', 'Durham', 'Whitebridge',\n",
       "       'Lake Wellingborough', 'Raleigh', 'Umstead', 'Hazelwood',\n",
       "       'Westpark Place', 'Meredith Townes', 'Leesville Hollow', 'Apex',\n",
       "       'Chapel Hill', 'Williamsburg Manor', 'Macgregor Downs',\n",
       "       'Edgehill Farms', 'Northwoods', 'Tanglewood', 'Preston',\n",
       "       'Walnut Terrace', 'Jackson Heights', 'East Elmhurst',\n",
       "       'Midtown West', 'Long Island City', 'Jamaica', 'Unknown Location',\n",
       "       'Colombo', 'Nugegoda', 'Katunayaka', 'Islamabad', 'R?walpindi',\n",
       "       'Noorpur Shahan', 'Heritage Pines', 'Waverly Place', 'Wayne Ridge',\n",
       "       'Depot Historic District', 'Weston', 'West University',\n",
       "       'South Congress', 'Arts District', 'Congress Ave District',\n",
       "       'Red River District', 'The Drag', 'Convention Center District',\n",
       "       'North Austin', 'Coxville', 'Katy', 'Alief', 'Sharpstown',\n",
       "       'Sugar Land', 'Galveston', 'Port Bolivar', 'Washington Avenue',\n",
       "       'Briar Meadow', 'Greater Greenspoint', 'Latta', 'Jacksonville',\n",
       "       'Kissimmee', 'Isles of Buena Vista', 'Orlando', 'Lake Reams',\n",
       "       'Vista East', 'Sky Lake', 'Sand Lake Commons', 'Daytona Beach',\n",
       "       'Ridgeland', 'Florence', 'Cedar Hill', 'Holly Springs',\n",
       "       'Harden Place', 'Chessington', 'Burtrose', 'Parkway',\n",
       "       'Capitol One', 'University District', 'Redmond', 'Bellevue',\n",
       "       'Seattle', 'Mcvan', 'Palo Alto', 'Sunnyvale', 'Newark',\n",
       "       'Menlo Park', 'San Francisco', 'Parkway Museums', 'Hog Island',\n",
       "       'Savon Height', 'Kildaire Farms', 'Kilarney Woods',\n",
       "       'Gramercy-Flatiron', 'Tudor City', 'Soho', 'Tribeca',\n",
       "       'Financial District', 'Kips Bay', 'Emeryville', 'Berkeley',\n",
       "       'Oakland', 'Bay Farm Island', 'New Orleans',\n",
       "       'Lower Garden District', 'Lakeview', 'Storyville',\n",
       "       'Faubourg Marigny', 'Metairie', 'Kenner', 'Bywater', 'Chalmette',\n",
       "       'Arabi', 'Pontchartrain Shores', 'Marigny', 'Covington',\n",
       "       'Mandeville', 'Summerwinds', 'Parkwood', 'Pontchartrain Beach',\n",
       "       'CBD', 'St Thomas', 'Banner Elk', 'Elk Park', 'Newland', 'Boone',\n",
       "       'Stonewater', 'Lexington Park at Amberly',\n",
       "       'Arlington Park at Amberly', 'Washington', 'K Street',\n",
       "       'Kalorama Triangle', 'Northwest Rectangle', 'Columbia Heights',\n",
       "       'Arlington', 'Farmington Woods', 'Wake Forest', 'Lahore',\n",
       "       'Karachi', 'French Quarter', 'North Berkeley Hills', 'Southside',\n",
       "       'San Jose', 'Eagle Rock', 'Huntington Woods', 'Winston Salem',\n",
       "       'Asheville', 'Topton', 'Hayesville', 'Bryson City', 'Almond',\n",
       "       'Mebane', 'Santa Clara', 'Cory', 'Agnew', 'Renaissance',\n",
       "       'West Berkeley', 'Central', 'Sunnyside', 'Ingleside',\n",
       "       'Potrero Flats', 'SOMISSPO', 'Tenderloin', 'College Avenue',\n",
       "       'South', 'Southwest Berkeley', 'South Berkeley', 'Mountain View',\n",
       "       'El Cerrito', 'Wake Co.', 'Fuquay-Varina', 'Rawalpindi', 'Kar?chi',\n",
       "       'Gampaha', 'Ilukwatta'], dtype=object)"
      ]
     },
     "execution_count": 28,
     "metadata": {},
     "output_type": "execute_result"
    }
   ],
   "source": [
    "data_df['STOP'].unique()"
   ]
  },
  {
   "cell_type": "markdown",
   "id": "7a1dd9e5",
   "metadata": {},
   "source": [
    "**3. Create a new dataframe with the name of the end location and the number of rides with\n",
    "that end location.**"
   ]
  },
  {
   "cell_type": "code",
   "execution_count": 29,
   "id": "3bb39097",
   "metadata": {},
   "outputs": [
    {
     "data": {
      "text/html": [
       "<div>\n",
       "<style scoped>\n",
       "    .dataframe tbody tr th:only-of-type {\n",
       "        vertical-align: middle;\n",
       "    }\n",
       "\n",
       "    .dataframe tbody tr th {\n",
       "        vertical-align: top;\n",
       "    }\n",
       "\n",
       "    .dataframe thead th {\n",
       "        text-align: right;\n",
       "    }\n",
       "</style>\n",
       "<table border=\"1\" class=\"dataframe\">\n",
       "  <thead>\n",
       "    <tr style=\"text-align: right;\">\n",
       "      <th></th>\n",
       "      <th>count</th>\n",
       "    </tr>\n",
       "    <tr>\n",
       "      <th>STOP</th>\n",
       "      <th></th>\n",
       "    </tr>\n",
       "  </thead>\n",
       "  <tbody>\n",
       "    <tr>\n",
       "      <th>Cary</th>\n",
       "      <td>203</td>\n",
       "    </tr>\n",
       "    <tr>\n",
       "      <th>Unknown Location</th>\n",
       "      <td>149</td>\n",
       "    </tr>\n",
       "    <tr>\n",
       "      <th>Morrisville</th>\n",
       "      <td>84</td>\n",
       "    </tr>\n",
       "    <tr>\n",
       "      <th>Whitebridge</th>\n",
       "      <td>65</td>\n",
       "    </tr>\n",
       "    <tr>\n",
       "      <th>Islamabad</th>\n",
       "      <td>58</td>\n",
       "    </tr>\n",
       "    <tr>\n",
       "      <th>...</th>\n",
       "      <td>...</td>\n",
       "    </tr>\n",
       "    <tr>\n",
       "      <th>Daytona Beach</th>\n",
       "      <td>1</td>\n",
       "    </tr>\n",
       "    <tr>\n",
       "      <th>Sand Lake Commons</th>\n",
       "      <td>1</td>\n",
       "    </tr>\n",
       "    <tr>\n",
       "      <th>Sky Lake</th>\n",
       "      <td>1</td>\n",
       "    </tr>\n",
       "    <tr>\n",
       "      <th>Vista East</th>\n",
       "      <td>1</td>\n",
       "    </tr>\n",
       "    <tr>\n",
       "      <th>Ilukwatta</th>\n",
       "      <td>1</td>\n",
       "    </tr>\n",
       "  </tbody>\n",
       "</table>\n",
       "<p>188 rows × 1 columns</p>\n",
       "</div>"
      ],
      "text/plain": [
       "                   count\n",
       "STOP                    \n",
       "Cary                 203\n",
       "Unknown Location     149\n",
       "Morrisville           84\n",
       "Whitebridge           65\n",
       "Islamabad             58\n",
       "...                  ...\n",
       "Daytona Beach          1\n",
       "Sand Lake Commons      1\n",
       "Sky Lake               1\n",
       "Vista East             1\n",
       "Ilukwatta              1\n",
       "\n",
       "[188 rows x 1 columns]"
      ]
     },
     "execution_count": 29,
     "metadata": {},
     "output_type": "execute_result"
    }
   ],
   "source": [
    "end_location_df = data_df['STOP'].value_counts().to_frame()\n",
    "end_location_df"
   ]
  },
  {
   "cell_type": "markdown",
   "id": "3d19d4df",
   "metadata": {},
   "source": [
    "**4. Which is the most popular ride end location?**"
   ]
  },
  {
   "cell_type": "code",
   "execution_count": 30,
   "id": "90a7e0f7",
   "metadata": {},
   "outputs": [
    {
     "data": {
      "text/plain": [
       "count    Cary\n",
       "dtype: object"
      ]
     },
     "execution_count": 30,
     "metadata": {},
     "output_type": "execute_result"
    }
   ],
   "source": [
    "end_location_df.idxmax()"
   ]
  },
  {
   "cell_type": "markdown",
   "id": "33076a8b",
   "metadata": {},
   "source": [
    "**5. Among all the end locations you listed, you will notice that one location is not the name\n",
    "of an actual location. What label was used instead of an actual location here?**"
   ]
  },
  {
   "cell_type": "code",
   "execution_count": 31,
   "id": "be93439c",
   "metadata": {},
   "outputs": [
    {
     "data": {
      "text/plain": [
       "Index(['Unknown Location'], dtype='object', name='STOP')"
      ]
     },
     "execution_count": 31,
     "metadata": {},
     "output_type": "execute_result"
    }
   ],
   "source": [
    "end_location_df.index[end_location_df['count'] == 149]"
   ]
  },
  {
   "cell_type": "markdown",
   "id": "0dd0c334",
   "metadata": {},
   "source": [
    "**6. How many rows have that label?**"
   ]
  },
  {
   "cell_type": "code",
   "execution_count": 32,
   "id": "f4dddb63",
   "metadata": {},
   "outputs": [
    {
     "data": {
      "text/plain": [
       "149"
      ]
     },
     "execution_count": 32,
     "metadata": {},
     "output_type": "execute_result"
    }
   ],
   "source": [
    "len(data_df[data_df['STOP'] == 'Unknown Location'])"
   ]
  },
  {
   "cell_type": "markdown",
   "id": "7335f74a",
   "metadata": {},
   "source": [
    "## 3.6 Miles"
   ]
  },
  {
   "cell_type": "markdown",
   "id": "0188c71b",
   "metadata": {},
   "source": [
    "**1. Are there any null values in the column miles?**"
   ]
  },
  {
   "cell_type": "code",
   "execution_count": 33,
   "id": "9c39a3ed",
   "metadata": {},
   "outputs": [
    {
     "data": {
      "text/plain": [
       "0"
      ]
     },
     "execution_count": 33,
     "metadata": {},
     "output_type": "execute_result"
    }
   ],
   "source": [
    "data_df['MILES'].isnull().sum()"
   ]
  },
  {
   "cell_type": "markdown",
   "id": "9679910f",
   "metadata": {},
   "source": [
    "**2. What are the average and median miles for rides?**"
   ]
  },
  {
   "cell_type": "code",
   "execution_count": 34,
   "id": "9fa2416d",
   "metadata": {},
   "outputs": [
    {
     "data": {
      "text/plain": [
       "10.566839826839827"
      ]
     },
     "execution_count": 34,
     "metadata": {},
     "output_type": "execute_result"
    }
   ],
   "source": [
    "# Average\n",
    "data_df['MILES'].mean()"
   ]
  },
  {
   "cell_type": "code",
   "execution_count": 35,
   "id": "dcb7e921",
   "metadata": {},
   "outputs": [
    {
     "data": {
      "text/plain": [
       "6.0"
      ]
     },
     "execution_count": 35,
     "metadata": {},
     "output_type": "execute_result"
    }
   ],
   "source": [
    "# Median\n",
    "data_df['MILES'].median()"
   ]
  },
  {
   "cell_type": "markdown",
   "id": "277487eb",
   "metadata": {},
   "source": [
    "## 3.7 Purpose"
   ]
  },
  {
   "cell_type": "markdown",
   "id": "5b7908b7",
   "metadata": {},
   "source": [
    "**1. What are the different purposes recorded for the rides?**"
   ]
  },
  {
   "cell_type": "code",
   "execution_count": 36,
   "id": "9e49248c",
   "metadata": {},
   "outputs": [
    {
     "data": {
      "text/plain": [
       "array(['Meal/Entertain', nan, 'Errand/Supplies', 'Meeting',\n",
       "       'Customer Visit', 'Temporary Site', 'Between Offices',\n",
       "       'Charity ($)', 'Commute', 'Moving', 'Airport/Travel'], dtype=object)"
      ]
     },
     "execution_count": 36,
     "metadata": {},
     "output_type": "execute_result"
    }
   ],
   "source": [
    "data_df['PURPOSE'].unique()"
   ]
  },
  {
   "cell_type": "markdown",
   "id": "40973b68",
   "metadata": {},
   "source": [
    "**2. What is the most popular known purpose?**"
   ]
  },
  {
   "cell_type": "code",
   "execution_count": 37,
   "id": "8c42bb0e",
   "metadata": {},
   "outputs": [
    {
     "data": {
      "text/plain": [
       "'Meeting'"
      ]
     },
     "execution_count": 37,
     "metadata": {},
     "output_type": "execute_result"
    }
   ],
   "source": [
    "data_df['PURPOSE'].value_counts().idxmax()"
   ]
  },
  {
   "cell_type": "markdown",
   "id": "20aa2f2d",
   "metadata": {},
   "source": [
    "**3. What percentage of total rides were for the purpose above?**"
   ]
  },
  {
   "cell_type": "code",
   "execution_count": 38,
   "id": "8339f531",
   "metadata": {},
   "outputs": [
    {
     "name": "stdout",
     "output_type": "stream",
     "text": [
      "Percentage of total rides for meetings: 16.19%\n"
     ]
    }
   ],
   "source": [
    "meetings = data_df['PURPOSE'].value_counts().max()\n",
    "total_rides = len(data_df['PURPOSE'])\n",
    "\n",
    "meetings_percent = round((meetings / total_rides) * 100, 2)\n",
    "print('Percentage of total rides for meetings: ' + str(meetings_percent) + '%')"
   ]
  },
  {
   "cell_type": "markdown",
   "id": "9d0c9050",
   "metadata": {},
   "source": [
    "# Part 4: Data Exploration"
   ]
  },
  {
   "cell_type": "markdown",
   "id": "185a57a9",
   "metadata": {},
   "source": [
    "**Play around with the data, ie look into the data. Give three insights about rides that you\n",
    "found. Example: The most popular start location for the rides are ..., The busiest time ie time\n",
    "with the most rides are..., The most popular start and end locations for business rides are...**"
   ]
  },
  {
   "cell_type": "markdown",
   "id": "97813e2f",
   "metadata": {},
   "source": [
    "**Insight 1: The furthest distance traveled was 310.5 miles and the shortest was .5 miles**"
   ]
  },
  {
   "cell_type": "code",
   "execution_count": 39,
   "id": "ea694cab",
   "metadata": {},
   "outputs": [
    {
     "name": "stdout",
     "output_type": "stream",
     "text": [
      "furthest distance: 310.3\n",
      "shortest distance: 0.5\n"
     ]
    }
   ],
   "source": [
    "print('furthest distance: ' + str(data_df['MILES'].max()))\n",
    "print('shortest distance: ' + str(data_df['MILES'].min()))"
   ]
  },
  {
   "cell_type": "markdown",
   "id": "9099e495",
   "metadata": {},
   "source": [
    "**Insight 2: The busiest departure/start time occurs at 17:50**"
   ]
  },
  {
   "cell_type": "code",
   "execution_count": 40,
   "id": "5fbf29a7",
   "metadata": {},
   "outputs": [
    {
     "data": {
      "text/plain": [
       "'17:50'"
      ]
     },
     "execution_count": 40,
     "metadata": {},
     "output_type": "execute_result"
    }
   ],
   "source": [
    "data_df['start time'].value_counts().idxmax()"
   ]
  },
  {
   "cell_type": "markdown",
   "id": "7edc75b9",
   "metadata": {},
   "source": [
    "**Insight 3: The avg milage for personal and business rides are 9.32 and 10.66 miles respectively**"
   ]
  },
  {
   "cell_type": "code",
   "execution_count": 41,
   "id": "ed5e4228",
   "metadata": {},
   "outputs": [
    {
     "name": "stdout",
     "output_type": "stream",
     "text": [
      "Personal ride avg miles: 9.32\n",
      "Business ride avg miles: 10.66\n"
     ]
    }
   ],
   "source": [
    "personal_df = data_df[data_df['CATEGORY'] =='Personal']\n",
    "business_df = data_df[data_df['CATEGORY'] =='Business']\n",
    "print('Personal ride avg miles: ' + str(round(personal_df['MILES'].mean(), 2)))\n",
    "print('Business ride avg miles: ' + str(round(business_df['MILES'].mean(), 2)))"
   ]
  },
  {
   "cell_type": "markdown",
   "id": "add54534",
   "metadata": {},
   "source": [
    "# Part 5: Data Visualisation\n",
    "**Use Matplotlib for all the coding questions in this section. Give appropriate title, x and\n",
    "y-axis labels, and legend where applicable.**"
   ]
  },
  {
   "cell_type": "markdown",
   "id": "e22e2eb9",
   "metadata": {},
   "source": [
    "**1. Show a donut chart displaying the purpose of the trips, where the purpose is known.**"
   ]
  },
  {
   "cell_type": "code",
   "execution_count": 42,
   "id": "0381df46",
   "metadata": {},
   "outputs": [],
   "source": [
    "purpose_df = data_df[data_df['PURPOSE'].notnull()]\n",
    "names = purpose_df['PURPOSE'].value_counts().index.tolist()\n",
    "counts = purpose_df['PURPOSE'].value_counts().to_list()"
   ]
  },
  {
   "cell_type": "code",
   "execution_count": 43,
   "id": "5c0caeb4",
   "metadata": {},
   "outputs": [
    {
     "data": {
      "image/png": "[encoded data removed]",
      "text/plain": [
       "<Figure size 640x480 with 1 Axes>"
      ]
     },
     "metadata": {},
     "output_type": "display_data"
    }
   ],
   "source": [
    "my_circle = plt.Circle((0, 0), 0.8, color='white')\n",
    "plt.pie(counts, labels = names)\n",
    "p = plt.gcf()\n",
    "p.gca().add_artist(my_circle)\n",
    "plt.legend(loc='center')\n",
    "plt.show()"
   ]
  },
  {
   "cell_type": "markdown",
   "id": "b51095be",
   "metadata": {},
   "source": [
    "**2. Show a histogram with the distribution of miles driven. Use 10 equal-width bins.**"
   ]
  },
  {
   "cell_type": "code",
   "execution_count": 44,
   "id": "7aeb8ef0",
   "metadata": {},
   "outputs": [
    {
     "data": {
      "text/plain": [
       "Text(0, 0.5, 'Distance Frequency')"
      ]
     },
     "execution_count": 44,
     "metadata": {},
     "output_type": "execute_result"
    },
    {
     "data": {
      "image/png": "[encoded data removed]",
      "text/plain": [
       "<Figure size 640x480 with 1 Axes>"
      ]
     },
     "metadata": {},
     "output_type": "display_data"
    }
   ],
   "source": [
    "purpose_df.hist(column='MILES', bins=10)\n",
    "plt.title('Mileage Distribution')\n",
    "plt.xlabel('Trip Length (Miles)')\n",
    "plt.ylabel('Distance Frequency')"
   ]
  },
  {
   "cell_type": "markdown",
   "id": "7ec13244",
   "metadata": {},
   "source": [
    "**3. Show any other visualization of your choice to visualise something from the dataset.**\n",
    "\n",
    "**This pie chart shows the percentage of the top 10 starting locations.** "
   ]
  },
  {
   "cell_type": "code",
   "execution_count": 45,
   "id": "56257398",
   "metadata": {},
   "outputs": [
    {
     "data": {
      "image/png": "[encoded data removed]",
      "text/plain": [
       "<Figure size 640x480 with 1 Axes>"
      ]
     },
     "metadata": {},
     "output_type": "display_data"
    }
   ],
   "source": [
    "start_counts = data_df['START'].value_counts().to_list()[:10]\n",
    "start_locals = data_df['START'].value_counts().index.to_list()[:10]\n",
    "plt.pie(start_counts, labels=start_locals,autopct='%1.1f%%')\n",
    "plt.legend()\n",
    "plt.show()"
   ]
  },
  {
   "cell_type": "markdown",
   "id": "048e7e8f",
   "metadata": {},
   "source": [
    "# Part 6: Linear Regression"
   ]
  },
  {
   "cell_type": "markdown",
   "id": "c36b8c5a",
   "metadata": {},
   "source": [
    "## 6.1: Data Preparation"
   ]
  },
  {
   "cell_type": "markdown",
   "id": "86e65a08",
   "metadata": {},
   "source": [
    "**1. The features we will use are the start location, category, and purpose. Perform label\n",
    "encoding on the three features and store them in a variable X**"
   ]
  },
  {
   "cell_type": "code",
   "execution_count": 46,
   "id": "d691ba40",
   "metadata": {},
   "outputs": [
    {
     "data": {
      "text/plain": [
       "array([[ 52,   0,   6],\n",
       "       [ 52,   0,  10],\n",
       "       [ 52,   0,   5],\n",
       "       ...,\n",
       "       [162,   0,   7],\n",
       "       [ 77,   0,   9],\n",
       "       [ 55,   0,   9]])"
      ]
     },
     "execution_count": 46,
     "metadata": {},
     "output_type": "execute_result"
    }
   ],
   "source": [
    "encode_columns = ['START','CATEGORY','PURPOSE']\n",
    "X = data_df[encode_columns].apply(LabelEncoder().fit_transform).to_numpy()\n",
    "X"
   ]
  },
  {
   "cell_type": "markdown",
   "id": "0f29078e",
   "metadata": {},
   "source": [
    "**2. Store the miles driven in Y**"
   ]
  },
  {
   "cell_type": "code",
   "execution_count": 47,
   "id": "c04f2895",
   "metadata": {},
   "outputs": [
    {
     "data": {
      "text/plain": [
       "array([[ 46],\n",
       "       [ 45],\n",
       "       [ 43],\n",
       "       ...,\n",
       "       [152],\n",
       "       [ 59],\n",
       "       [229]])"
      ]
     },
     "execution_count": 47,
     "metadata": {},
     "output_type": "execute_result"
    }
   ],
   "source": [
    "miles_driven = ['MILES']\n",
    "Y = data_df[miles_driven].apply(LabelEncoder().fit_transform).to_numpy()\n",
    "Y"
   ]
  },
  {
   "cell_type": "markdown",
   "id": "3e981a23",
   "metadata": {},
   "source": [
    "**3. Split the dataset ( X, Y) you prepared above into Train (80%), Validation (10%), and\n",
    "Test (10%) splits. Use the sklearn function, you may have to use the function twice.**"
   ]
  },
  {
   "cell_type": "code",
   "execution_count": 48,
   "id": "4d5a6143",
   "metadata": {},
   "outputs": [
    {
     "name": "stdout",
     "output_type": "stream",
     "text": [
      "924 115 116\n",
      "924 115 116\n"
     ]
    }
   ],
   "source": [
    "X_train, X_test_and_val, Y_train, Y_test_and_val = train_test_split(X,Y, train_size=.8)\n",
    "X_val, X_test, Y_val, Y_test = train_test_split(X_test_and_val, Y_test_and_val, test_size =.5)\n",
    "print(len(X_train),len(X_val),len(X_test))\n",
    "print(len(Y_train),len(Y_val),len(Y_test))"
   ]
  },
  {
   "cell_type": "markdown",
   "id": "a81ffd89",
   "metadata": {},
   "source": [
    "## 6.2 Model Training"
   ]
  },
  {
   "cell_type": "markdown",
   "id": "6d3630e0",
   "metadata": {},
   "source": [
    "**Train the following models using the data you have. Save the test performance (metric:\n",
    "MSE ) of each of the models on the validation dataset. You can choose whatever parameters\n",
    "you think fit, or just go with the default. It is up to your discretion.**\n",
    "- Linear Regression\n",
    "- Lasso\n",
    "- Ridge"
   ]
  },
  {
   "cell_type": "code",
   "execution_count": 49,
   "id": "dbf1c3f5",
   "metadata": {},
   "outputs": [
    {
     "data": {
      "text/plain": [
       "3544.1178700553305"
      ]
     },
     "execution_count": 49,
     "metadata": {},
     "output_type": "execute_result"
    }
   ],
   "source": [
    "# Linear Regression\n",
    "linear_regression_model = LinearRegression()\n",
    "\n",
    "linear_regression_model.fit(X_val, Y_val)\n",
    "linear_regression_prediction = linear_regression_model.predict(X_val)\n",
    "mean_squared_error(Y_val, linear_regression_prediction)"
   ]
  },
  {
   "cell_type": "code",
   "execution_count": 50,
   "id": "3160ff17",
   "metadata": {},
   "outputs": [
    {
     "data": {
      "text/plain": [
       "3549.2894492424566"
      ]
     },
     "execution_count": 50,
     "metadata": {},
     "output_type": "execute_result"
    }
   ],
   "source": [
    "# Lasso\n",
    "lasso_model = linear_model.Lasso()\n",
    "\n",
    "lasso_model.fit(X_val, Y_val)\n",
    "lasso_prediction = lasso_model.predict(X_val)\n",
    "mean_squared_error(Y_val, lasso_prediction)"
   ]
  },
  {
   "cell_type": "code",
   "execution_count": 51,
   "id": "c1e73514",
   "metadata": {},
   "outputs": [
    {
     "data": {
      "text/plain": [
       "3544.2182062482875"
      ]
     },
     "execution_count": 51,
     "metadata": {},
     "output_type": "execute_result"
    }
   ],
   "source": [
    "# Ridge\n",
    "ridge_model = linear_model.Ridge()\n",
    "\n",
    "ridge_model.fit(X_val, Y_val)\n",
    "ridge_prediction = ridge_model.predict(X_val)\n",
    "mean_squared_error(Y_val, ridge_prediction)"
   ]
  },
  {
   "cell_type": "markdown",
   "id": "12b4d571",
   "metadata": {},
   "source": [
    "## 6.3 Pick the best model"
   ]
  },
  {
   "cell_type": "code",
   "execution_count": 52,
   "id": "9493ebcb",
   "metadata": {},
   "outputs": [
    {
     "data": {
      "text/plain": [
       "2652.306300757345"
      ]
     },
     "execution_count": 52,
     "metadata": {},
     "output_type": "execute_result"
    }
   ],
   "source": [
    "top_model = LinearRegression()\n",
    "\n",
    "top_model.fit(X_test, Y_test)\n",
    "top_model_prediction = top_model.predict(X_test)\n",
    "mean_squared_error(Y_test, top_model_prediction)"
   ]
  },
  {
   "cell_type": "markdown",
   "id": "76856339",
   "metadata": {},
   "source": [
    "# 7: Final Notes\n",
    "**Text Response**"
   ]
  },
  {
   "cell_type": "markdown",
   "id": "59927806",
   "metadata": {},
   "source": [
    "**1. Why are datasets split into train, validation, and test?**"
   ]
  },
  {
   "cell_type": "markdown",
   "id": "93cea9e1",
   "metadata": {},
   "source": [
    "Splitting datasets into these categories allows for evaluating the accuracy of a predicitve model. \n",
    "\n",
    "The training set should be allocated 70% of the total data entries and is reserved for training the model and hopefully identify outliers in the data.\n",
    "\n",
    "The validation set, separate from the training set, is used to validate the model's accuracy after being trained. This set is simply used to understand how well the model performs on data excluded from the training set.\n",
    "\n",
    "Finally, the test set is meant to be evaluate the model's performance after the testing stage is completed. When the model is peformed over this set, a number is determied that conveys the expected produtive accuracy of the model. "
   ]
  },
  {
   "cell_type": "markdown",
   "id": "ec2ded8b",
   "metadata": {},
   "source": [
    "**2. What is overfitting and underfitting?**"
   ]
  },
  {
   "cell_type": "markdown",
   "id": "2ab610fb",
   "metadata": {},
   "source": [
    "Overfitting occurs when when a model conforms so accurately to a dataset that it is 'too good to be true'. The model does not categorize the data correctly because of too many fine details including outliers. The issue with this is the inability for the model to reliably predict future observations.\n",
    "\n",
    "Underfitting is when a model fails to accurately capture the relationship between the input and output variables. This can result in a high error rate and some data observations going completely ignored. "
   ]
  },
  {
   "cell_type": "markdown",
   "id": "0465cc5b",
   "metadata": {},
   "source": [
    "**3. How does Lasso differ from Ridge ?**"
   ]
  },
  {
   "cell_type": "markdown",
   "id": "86ebd50f",
   "metadata": {},
   "source": [
    "Both are regularization techniques used in linear regression to prevent overfitting. Lasso uses L1 Regularization which can force less important coefficients to become zero rendering them useless in the model equation while Ridge uses L2 Regularization which only reduces the impact of less important coefficients by shrinking them to near zero. Therefore, the main difference is the the penalty technique applied to the coefficients. "
   ]
  },
  {
   "cell_type": "code",
   "execution_count": null,
   "id": "456e98e8",
   "metadata": {},
   "outputs": [],
   "source": []
  }
 ],
 "metadata": {
  "kernelspec": {
   "display_name": "Python 3 (ipykernel)",
   "language": "python",
   "name": "python3"
  },
  "language_info": {
   "codemirror_mode": {
    "name": "ipython",
    "version": 3
   },
   "file_extension": ".py",
   "mimetype": "text/x-python",
   "name": "python",
   "nbconvert_exporter": "python",
   "pygments_lexer": "ipython3",
   "version": "3.10.6"
  }
 },
 "nbformat": 4,
 "nbformat_minor": 5
}
